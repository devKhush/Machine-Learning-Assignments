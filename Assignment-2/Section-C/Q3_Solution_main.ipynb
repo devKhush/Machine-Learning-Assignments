{
 "cells": [
  {
   "cell_type": "code",
   "execution_count": 24,
   "metadata": {},
   "outputs": [],
   "source": [
    "import numpy as np\n",
    "import pandas as pd\n",
    "import matplotlib.pyplot as plt\n",
    "from sklearn.tree import DecisionTreeClassifier\n",
    "from sklearn.preprocessing import LabelEncoder"
   ]
  },
  {
   "cell_type": "markdown",
   "metadata": {},
   "source": [
    "##### Load the Dataset"
   ]
  },
  {
   "cell_type": "code",
   "execution_count": 25,
   "metadata": {},
   "outputs": [],
   "source": [
    "df = pd.read_csv('BitcoinHeistData.csv')"
   ]
  },
  {
   "cell_type": "code",
   "execution_count": 26,
   "metadata": {},
   "outputs": [
    {
     "data": {
      "text/html": [
       "<div>\n",
       "<style scoped>\n",
       "    .dataframe tbody tr th:only-of-type {\n",
       "        vertical-align: middle;\n",
       "    }\n",
       "\n",
       "    .dataframe tbody tr th {\n",
       "        vertical-align: top;\n",
       "    }\n",
       "\n",
       "    .dataframe thead th {\n",
       "        text-align: right;\n",
       "    }\n",
       "</style>\n",
       "<table border=\"1\" class=\"dataframe\">\n",
       "  <thead>\n",
       "    <tr style=\"text-align: right;\">\n",
       "      <th></th>\n",
       "      <th>address</th>\n",
       "      <th>year</th>\n",
       "      <th>day</th>\n",
       "      <th>length</th>\n",
       "      <th>weight</th>\n",
       "      <th>count</th>\n",
       "      <th>looped</th>\n",
       "      <th>neighbors</th>\n",
       "      <th>income</th>\n",
       "      <th>label</th>\n",
       "    </tr>\n",
       "  </thead>\n",
       "  <tbody>\n",
       "    <tr>\n",
       "      <th>0</th>\n",
       "      <td>111K8kZAEnJg245r2cM6y9zgJGHZtJPy6</td>\n",
       "      <td>2017</td>\n",
       "      <td>11</td>\n",
       "      <td>18</td>\n",
       "      <td>0.008333</td>\n",
       "      <td>1</td>\n",
       "      <td>0</td>\n",
       "      <td>2</td>\n",
       "      <td>100050000.0</td>\n",
       "      <td>princetonCerber</td>\n",
       "    </tr>\n",
       "    <tr>\n",
       "      <th>1</th>\n",
       "      <td>1123pJv8jzeFQaCV4w644pzQJzVWay2zcA</td>\n",
       "      <td>2016</td>\n",
       "      <td>132</td>\n",
       "      <td>44</td>\n",
       "      <td>0.000244</td>\n",
       "      <td>1</td>\n",
       "      <td>0</td>\n",
       "      <td>1</td>\n",
       "      <td>100000000.0</td>\n",
       "      <td>princetonLocky</td>\n",
       "    </tr>\n",
       "    <tr>\n",
       "      <th>2</th>\n",
       "      <td>112536im7hy6wtKbpH1qYDWtTyMRAcA2p7</td>\n",
       "      <td>2016</td>\n",
       "      <td>246</td>\n",
       "      <td>0</td>\n",
       "      <td>1.000000</td>\n",
       "      <td>1</td>\n",
       "      <td>0</td>\n",
       "      <td>2</td>\n",
       "      <td>200000000.0</td>\n",
       "      <td>princetonCerber</td>\n",
       "    </tr>\n",
       "    <tr>\n",
       "      <th>3</th>\n",
       "      <td>1126eDRw2wqSkWosjTCre8cjjQW8sSeWH7</td>\n",
       "      <td>2016</td>\n",
       "      <td>322</td>\n",
       "      <td>72</td>\n",
       "      <td>0.003906</td>\n",
       "      <td>1</td>\n",
       "      <td>0</td>\n",
       "      <td>2</td>\n",
       "      <td>71200000.0</td>\n",
       "      <td>princetonCerber</td>\n",
       "    </tr>\n",
       "    <tr>\n",
       "      <th>4</th>\n",
       "      <td>1129TSjKtx65E35GiUo4AYVeyo48twbrGX</td>\n",
       "      <td>2016</td>\n",
       "      <td>238</td>\n",
       "      <td>144</td>\n",
       "      <td>0.072848</td>\n",
       "      <td>456</td>\n",
       "      <td>0</td>\n",
       "      <td>1</td>\n",
       "      <td>200000000.0</td>\n",
       "      <td>princetonLocky</td>\n",
       "    </tr>\n",
       "  </tbody>\n",
       "</table>\n",
       "</div>"
      ],
      "text/plain": [
       "                              address  year  day  length    weight  count  \\\n",
       "0   111K8kZAEnJg245r2cM6y9zgJGHZtJPy6  2017   11      18  0.008333      1   \n",
       "1  1123pJv8jzeFQaCV4w644pzQJzVWay2zcA  2016  132      44  0.000244      1   \n",
       "2  112536im7hy6wtKbpH1qYDWtTyMRAcA2p7  2016  246       0  1.000000      1   \n",
       "3  1126eDRw2wqSkWosjTCre8cjjQW8sSeWH7  2016  322      72  0.003906      1   \n",
       "4  1129TSjKtx65E35GiUo4AYVeyo48twbrGX  2016  238     144  0.072848    456   \n",
       "\n",
       "   looped  neighbors       income            label  \n",
       "0       0          2  100050000.0  princetonCerber  \n",
       "1       0          1  100000000.0   princetonLocky  \n",
       "2       0          2  200000000.0  princetonCerber  \n",
       "3       0          2   71200000.0  princetonCerber  \n",
       "4       0          1  200000000.0   princetonLocky  "
      ]
     },
     "execution_count": 26,
     "metadata": {},
     "output_type": "execute_result"
    }
   ],
   "source": [
    "df.head()"
   ]
  },
  {
   "cell_type": "code",
   "execution_count": 27,
   "metadata": {},
   "outputs": [
    {
     "data": {
      "text/plain": [
       "1LXrSb67EaH1LGc6d6kWHq8rgv4ZBQAcpU    420\n",
       "16cVG72goMe4sNqZhnpmnqfCMZ1uSFbUit    261\n",
       "12wQZTDmA8onM3sEt4jwcvzDxnNXxD8Vza    207\n",
       "12YursV58dRT2c9iuZg3jEWfwgTDamBcnd    183\n",
       "1LEq4WmpCrqBd7V3PywE2nvFUFC3QTe52x    176\n",
       "                                     ... \n",
       "14m4NjEQjLKrcjtN3doN7TgNZi3nbvPnkL      1\n",
       "1CJrNRSNJepexvLFt3wSKZkzrHRag2UMCA      1\n",
       "1Fsi7R5115vXKcSmFEoDUqqmEW4oT2W5AV      1\n",
       "1GTkpRYXAK71c5DP2V7irDmYtvmhS46h29      1\n",
       "3LFFBxp15h9KSFtaw55np8eP5fv6kdK17e      1\n",
       "Name: address, Length: 2631095, dtype: int64"
      ]
     },
     "execution_count": 27,
     "metadata": {},
     "output_type": "execute_result"
    }
   ],
   "source": [
    "df['address'].value_counts()"
   ]
  },
  {
   "cell_type": "code",
   "execution_count": 28,
   "metadata": {},
   "outputs": [
    {
     "name": "stdout",
     "output_type": "stream",
     "text": [
      "<class 'pandas.core.frame.DataFrame'>\n",
      "RangeIndex: 2916697 entries, 0 to 2916696\n",
      "Data columns (total 10 columns):\n",
      " #   Column     Dtype  \n",
      "---  ------     -----  \n",
      " 0   address    object \n",
      " 1   year       int64  \n",
      " 2   day        int64  \n",
      " 3   length     int64  \n",
      " 4   weight     float64\n",
      " 5   count      int64  \n",
      " 6   looped     int64  \n",
      " 7   neighbors  int64  \n",
      " 8   income     float64\n",
      " 9   label      object \n",
      "dtypes: float64(2), int64(6), object(2)\n",
      "memory usage: 222.5+ MB\n"
     ]
    }
   ],
   "source": [
    "df.info()"
   ]
  },
  {
   "cell_type": "markdown",
   "metadata": {},
   "source": [
    "#### No null values present in the Datset"
   ]
  },
  {
   "cell_type": "code",
   "execution_count": 29,
   "metadata": {},
   "outputs": [
    {
     "data": {
      "text/plain": [
       "address      0\n",
       "year         0\n",
       "day          0\n",
       "length       0\n",
       "weight       0\n",
       "count        0\n",
       "looped       0\n",
       "neighbors    0\n",
       "income       0\n",
       "label        0\n",
       "dtype: int64"
      ]
     },
     "execution_count": 29,
     "metadata": {},
     "output_type": "execute_result"
    }
   ],
   "source": [
    "df.isnull().sum()"
   ]
  },
  {
   "cell_type": "markdown",
   "metadata": {},
   "source": [
    "#### Encoding 'address' column into numerical column using 'Label Encoder'"
   ]
  },
  {
   "cell_type": "code",
   "execution_count": 30,
   "metadata": {},
   "outputs": [],
   "source": [
    "encoder = LabelEncoder()\n",
    "df['address'] = encoder.fit_transform(df['address'])"
   ]
  },
  {
   "cell_type": "code",
   "execution_count": 31,
   "metadata": {},
   "outputs": [
    {
     "data": {
      "text/html": [
       "<div>\n",
       "<style scoped>\n",
       "    .dataframe tbody tr th:only-of-type {\n",
       "        vertical-align: middle;\n",
       "    }\n",
       "\n",
       "    .dataframe tbody tr th {\n",
       "        vertical-align: top;\n",
       "    }\n",
       "\n",
       "    .dataframe thead th {\n",
       "        text-align: right;\n",
       "    }\n",
       "</style>\n",
       "<table border=\"1\" class=\"dataframe\">\n",
       "  <thead>\n",
       "    <tr style=\"text-align: right;\">\n",
       "      <th></th>\n",
       "      <th>address</th>\n",
       "      <th>year</th>\n",
       "      <th>day</th>\n",
       "      <th>length</th>\n",
       "      <th>weight</th>\n",
       "      <th>count</th>\n",
       "      <th>looped</th>\n",
       "      <th>neighbors</th>\n",
       "      <th>income</th>\n",
       "      <th>label</th>\n",
       "    </tr>\n",
       "  </thead>\n",
       "  <tbody>\n",
       "    <tr>\n",
       "      <th>0</th>\n",
       "      <td>23</td>\n",
       "      <td>2017</td>\n",
       "      <td>11</td>\n",
       "      <td>18</td>\n",
       "      <td>0.008333</td>\n",
       "      <td>1</td>\n",
       "      <td>0</td>\n",
       "      <td>2</td>\n",
       "      <td>100050000.0</td>\n",
       "      <td>princetonCerber</td>\n",
       "    </tr>\n",
       "    <tr>\n",
       "      <th>1</th>\n",
       "      <td>128</td>\n",
       "      <td>2016</td>\n",
       "      <td>132</td>\n",
       "      <td>44</td>\n",
       "      <td>0.000244</td>\n",
       "      <td>1</td>\n",
       "      <td>0</td>\n",
       "      <td>1</td>\n",
       "      <td>100000000.0</td>\n",
       "      <td>princetonLocky</td>\n",
       "    </tr>\n",
       "    <tr>\n",
       "      <th>2</th>\n",
       "      <td>169</td>\n",
       "      <td>2016</td>\n",
       "      <td>246</td>\n",
       "      <td>0</td>\n",
       "      <td>1.000000</td>\n",
       "      <td>1</td>\n",
       "      <td>0</td>\n",
       "      <td>2</td>\n",
       "      <td>200000000.0</td>\n",
       "      <td>princetonCerber</td>\n",
       "    </tr>\n",
       "    <tr>\n",
       "      <th>3</th>\n",
       "      <td>217</td>\n",
       "      <td>2016</td>\n",
       "      <td>322</td>\n",
       "      <td>72</td>\n",
       "      <td>0.003906</td>\n",
       "      <td>1</td>\n",
       "      <td>0</td>\n",
       "      <td>2</td>\n",
       "      <td>71200000.0</td>\n",
       "      <td>princetonCerber</td>\n",
       "    </tr>\n",
       "    <tr>\n",
       "      <th>4</th>\n",
       "      <td>293</td>\n",
       "      <td>2016</td>\n",
       "      <td>238</td>\n",
       "      <td>144</td>\n",
       "      <td>0.072848</td>\n",
       "      <td>456</td>\n",
       "      <td>0</td>\n",
       "      <td>1</td>\n",
       "      <td>200000000.0</td>\n",
       "      <td>princetonLocky</td>\n",
       "    </tr>\n",
       "  </tbody>\n",
       "</table>\n",
       "</div>"
      ],
      "text/plain": [
       "   address  year  day  length    weight  count  looped  neighbors  \\\n",
       "0       23  2017   11      18  0.008333      1       0          2   \n",
       "1      128  2016  132      44  0.000244      1       0          1   \n",
       "2      169  2016  246       0  1.000000      1       0          2   \n",
       "3      217  2016  322      72  0.003906      1       0          2   \n",
       "4      293  2016  238     144  0.072848    456       0          1   \n",
       "\n",
       "        income            label  \n",
       "0  100050000.0  princetonCerber  \n",
       "1  100000000.0   princetonLocky  \n",
       "2  200000000.0  princetonCerber  \n",
       "3   71200000.0  princetonCerber  \n",
       "4  200000000.0   princetonLocky  "
      ]
     },
     "execution_count": 31,
     "metadata": {},
     "output_type": "execute_result"
    }
   ],
   "source": [
    "df.head()"
   ]
  },
  {
   "cell_type": "code",
   "execution_count": 32,
   "metadata": {},
   "outputs": [
    {
     "data": {
      "text/plain": [
       "1925732    420\n",
       "481920     261\n",
       "105390     207\n",
       "65867      183\n",
       "1895700    176\n",
       "          ... \n",
       "292374       1\n",
       "1074094      1\n",
       "1445117      1\n",
       "1506008      1\n",
       "2580865      1\n",
       "Name: address, Length: 2631095, dtype: int64"
      ]
     },
     "execution_count": 32,
     "metadata": {},
     "output_type": "execute_result"
    }
   ],
   "source": [
    "df['address'].value_counts()"
   ]
  },
  {
   "cell_type": "markdown",
   "metadata": {},
   "source": [
    "#### Randomly shuffle the Dataset (since all the output labels are grouped)"
   ]
  },
  {
   "cell_type": "code",
   "execution_count": 33,
   "metadata": {},
   "outputs": [],
   "source": [
    "df = df.sample(frac=1)"
   ]
  },
  {
   "cell_type": "code",
   "execution_count": 34,
   "metadata": {},
   "outputs": [
    {
     "data": {
      "text/html": [
       "<div>\n",
       "<style scoped>\n",
       "    .dataframe tbody tr th:only-of-type {\n",
       "        vertical-align: middle;\n",
       "    }\n",
       "\n",
       "    .dataframe tbody tr th {\n",
       "        vertical-align: top;\n",
       "    }\n",
       "\n",
       "    .dataframe thead th {\n",
       "        text-align: right;\n",
       "    }\n",
       "</style>\n",
       "<table border=\"1\" class=\"dataframe\">\n",
       "  <thead>\n",
       "    <tr style=\"text-align: right;\">\n",
       "      <th></th>\n",
       "      <th>address</th>\n",
       "      <th>year</th>\n",
       "      <th>day</th>\n",
       "      <th>length</th>\n",
       "      <th>weight</th>\n",
       "      <th>count</th>\n",
       "      <th>looped</th>\n",
       "      <th>neighbors</th>\n",
       "      <th>income</th>\n",
       "      <th>label</th>\n",
       "    </tr>\n",
       "  </thead>\n",
       "  <tbody>\n",
       "    <tr>\n",
       "      <th>505972</th>\n",
       "      <td>506425</td>\n",
       "      <td>2012</td>\n",
       "      <td>110</td>\n",
       "      <td>24</td>\n",
       "      <td>8.786737e-01</td>\n",
       "      <td>16</td>\n",
       "      <td>0</td>\n",
       "      <td>2</td>\n",
       "      <td>1.941000e+09</td>\n",
       "      <td>white</td>\n",
       "    </tr>\n",
       "    <tr>\n",
       "      <th>2620114</th>\n",
       "      <td>2369474</td>\n",
       "      <td>2018</td>\n",
       "      <td>34</td>\n",
       "      <td>136</td>\n",
       "      <td>2.270832e-01</td>\n",
       "      <td>6873</td>\n",
       "      <td>0</td>\n",
       "      <td>2</td>\n",
       "      <td>4.556888e+07</td>\n",
       "      <td>white</td>\n",
       "    </tr>\n",
       "    <tr>\n",
       "      <th>1363813</th>\n",
       "      <td>17576</td>\n",
       "      <td>2014</td>\n",
       "      <td>238</td>\n",
       "      <td>0</td>\n",
       "      <td>1.000000e+00</td>\n",
       "      <td>1</td>\n",
       "      <td>0</td>\n",
       "      <td>2</td>\n",
       "      <td>9.998000e+07</td>\n",
       "      <td>white</td>\n",
       "    </tr>\n",
       "    <tr>\n",
       "      <th>1176214</th>\n",
       "      <td>2199457</td>\n",
       "      <td>2014</td>\n",
       "      <td>50</td>\n",
       "      <td>6</td>\n",
       "      <td>1.000000e+00</td>\n",
       "      <td>1</td>\n",
       "      <td>0</td>\n",
       "      <td>2</td>\n",
       "      <td>5.802917e+07</td>\n",
       "      <td>white</td>\n",
       "    </tr>\n",
       "    <tr>\n",
       "      <th>296992</th>\n",
       "      <td>2353600</td>\n",
       "      <td>2011</td>\n",
       "      <td>266</td>\n",
       "      <td>58</td>\n",
       "      <td>1.994046e-06</td>\n",
       "      <td>46</td>\n",
       "      <td>0</td>\n",
       "      <td>1</td>\n",
       "      <td>1.030000e+08</td>\n",
       "      <td>white</td>\n",
       "    </tr>\n",
       "    <tr>\n",
       "      <th>...</th>\n",
       "      <td>...</td>\n",
       "      <td>...</td>\n",
       "      <td>...</td>\n",
       "      <td>...</td>\n",
       "      <td>...</td>\n",
       "      <td>...</td>\n",
       "      <td>...</td>\n",
       "      <td>...</td>\n",
       "      <td>...</td>\n",
       "      <td>...</td>\n",
       "    </tr>\n",
       "    <tr>\n",
       "      <th>1906332</th>\n",
       "      <td>398193</td>\n",
       "      <td>2016</td>\n",
       "      <td>50</td>\n",
       "      <td>42</td>\n",
       "      <td>7.148791e-02</td>\n",
       "      <td>70</td>\n",
       "      <td>0</td>\n",
       "      <td>2</td>\n",
       "      <td>1.115550e+08</td>\n",
       "      <td>white</td>\n",
       "    </tr>\n",
       "    <tr>\n",
       "      <th>297907</th>\n",
       "      <td>156143</td>\n",
       "      <td>2011</td>\n",
       "      <td>267</td>\n",
       "      <td>14</td>\n",
       "      <td>5.156250e-01</td>\n",
       "      <td>2</td>\n",
       "      <td>0</td>\n",
       "      <td>2</td>\n",
       "      <td>6.368000e+09</td>\n",
       "      <td>white</td>\n",
       "    </tr>\n",
       "    <tr>\n",
       "      <th>805128</th>\n",
       "      <td>483661</td>\n",
       "      <td>2013</td>\n",
       "      <td>44</td>\n",
       "      <td>0</td>\n",
       "      <td>5.000000e-01</td>\n",
       "      <td>1</td>\n",
       "      <td>0</td>\n",
       "      <td>1</td>\n",
       "      <td>2.030000e+10</td>\n",
       "      <td>white</td>\n",
       "    </tr>\n",
       "    <tr>\n",
       "      <th>191875</th>\n",
       "      <td>2132493</td>\n",
       "      <td>2011</td>\n",
       "      <td>161</td>\n",
       "      <td>128</td>\n",
       "      <td>1.898076e-12</td>\n",
       "      <td>24</td>\n",
       "      <td>0</td>\n",
       "      <td>2</td>\n",
       "      <td>1.315936e+10</td>\n",
       "      <td>white</td>\n",
       "    </tr>\n",
       "    <tr>\n",
       "      <th>2637699</th>\n",
       "      <td>2528471</td>\n",
       "      <td>2018</td>\n",
       "      <td>52</td>\n",
       "      <td>0</td>\n",
       "      <td>1.000000e+00</td>\n",
       "      <td>1</td>\n",
       "      <td>0</td>\n",
       "      <td>1</td>\n",
       "      <td>3.256920e+08</td>\n",
       "      <td>white</td>\n",
       "    </tr>\n",
       "  </tbody>\n",
       "</table>\n",
       "<p>2916697 rows × 10 columns</p>\n",
       "</div>"
      ],
      "text/plain": [
       "         address  year  day  length        weight  count  looped  neighbors  \\\n",
       "505972    506425  2012  110      24  8.786737e-01     16       0          2   \n",
       "2620114  2369474  2018   34     136  2.270832e-01   6873       0          2   \n",
       "1363813    17576  2014  238       0  1.000000e+00      1       0          2   \n",
       "1176214  2199457  2014   50       6  1.000000e+00      1       0          2   \n",
       "296992   2353600  2011  266      58  1.994046e-06     46       0          1   \n",
       "...          ...   ...  ...     ...           ...    ...     ...        ...   \n",
       "1906332   398193  2016   50      42  7.148791e-02     70       0          2   \n",
       "297907    156143  2011  267      14  5.156250e-01      2       0          2   \n",
       "805128    483661  2013   44       0  5.000000e-01      1       0          1   \n",
       "191875   2132493  2011  161     128  1.898076e-12     24       0          2   \n",
       "2637699  2528471  2018   52       0  1.000000e+00      1       0          1   \n",
       "\n",
       "               income  label  \n",
       "505972   1.941000e+09  white  \n",
       "2620114  4.556888e+07  white  \n",
       "1363813  9.998000e+07  white  \n",
       "1176214  5.802917e+07  white  \n",
       "296992   1.030000e+08  white  \n",
       "...               ...    ...  \n",
       "1906332  1.115550e+08  white  \n",
       "297907   6.368000e+09  white  \n",
       "805128   2.030000e+10  white  \n",
       "191875   1.315936e+10  white  \n",
       "2637699  3.256920e+08  white  \n",
       "\n",
       "[2916697 rows x 10 columns]"
      ]
     },
     "execution_count": 34,
     "metadata": {},
     "output_type": "execute_result"
    }
   ],
   "source": [
    "df"
   ]
  },
  {
   "cell_type": "markdown",
   "metadata": {},
   "source": [
    "# Q3 Part-1"
   ]
  },
  {
   "cell_type": "markdown",
   "metadata": {},
   "source": [
    "### Training a Decision Tree using both the Gini index and the Entropy by changing the max-depth"
   ]
  },
  {
   "cell_type": "code",
   "execution_count": 35,
   "metadata": {},
   "outputs": [],
   "source": [
    "def train_test_validation_split(dataset: pd.DataFrame, size):\n",
    "    n = dataset.shape[0]\n",
    "    train_size = round((size[0]/100) * n)\n",
    "    valid_size = round((size[1]/100) * n)\n",
    "    test_size = round((size[2]/100) * n)\n",
    "    \n",
    "    # Split into Training, Validating & Testing Data\n",
    "    x_train = dataset.iloc[0:train_size].drop('label', axis=1)\n",
    "    y_train = dataset.iloc[0:train_size]['label']\n",
    "    x_valid = dataset.iloc[train_size: train_size + valid_size].drop('label', axis=1)\n",
    "    y_valid = dataset.iloc[train_size: train_size + valid_size]['label']\n",
    "    x_test = dataset.iloc[train_size + valid_size:].drop('label', axis=1)\n",
    "    y_test = dataset.iloc[train_size + valid_size:]['label']\n",
    "    return x_train, y_train, x_valid, y_valid, x_test, y_test\n",
    "    "
   ]
  },
  {
   "cell_type": "code",
   "execution_count": 36,
   "metadata": {},
   "outputs": [],
   "source": [
    "x_train, y_train, x_valid, y_valid, x_test, y_test = train_test_validation_split(df, [70,15,15])"
   ]
  },
  {
   "cell_type": "code",
   "execution_count": 85,
   "metadata": {},
   "outputs": [],
   "source": [
    "def DecisionTreeAlgorithm(split_criteria, x_train, y_train, x_valid, y_valid, x_test, y_test):\n",
    "    print(f\"Training, Validating & Testing the Decision Tree with '{split_criteria}' criteria...\")\n",
    "    print(\"Accuracy of Decision Tree classifers with various depth is shown below.\\n\")    \n",
    "    \n",
    "    for depth in  [4, 8, 10, 15, 20]:\n",
    "        # Training the Decision Tree \n",
    "        tree = DecisionTreeClassifier(max_depth=depth, criterion=split_criteria)\n",
    "        tree.fit(x_train, y_train)\n",
    "        \n",
    "        # Accuracy on Validation Set\n",
    "        y_pred_valid = tree.predict(x_valid)\n",
    "        validation_accuracy = (y_pred_valid == y_valid).sum() / y_valid.shape[0]\n",
    "        print(f\"Accuracy with 'Depth = {depth}' on Validation set is: {validation_accuracy}\")\n",
    "        \n",
    "        # Accuracy on Testing Set\n",
    "        y_pred_test = tree.predict(x_test)\n",
    "        testing_accuracy = (y_pred_test == y_test).sum() / y_test.shape[0]\n",
    "        print(f\"Accuracy with 'Depth = {depth}' on Testing set is: {testing_accuracy}\\n\")"
   ]
  },
  {
   "cell_type": "markdown",
   "metadata": {},
   "source": [
    "### Training Decision trees using the Gini index (for various depths)"
   ]
  },
  {
   "cell_type": "code",
   "execution_count": 86,
   "metadata": {},
   "outputs": [
    {
     "name": "stdout",
     "output_type": "stream",
     "text": [
      "Training, Validating & Testing the Decision Tree with 'gini' criteria...\n",
      "Accuracy of Decision Tree classifers with various depth is shown below.\n",
      "\n",
      "Accuracy with 'Depth = 4' on Validation set is: 0.9857075919132353\n",
      "Accuracy with 'Depth = 4' on Testing set is: 0.9859566998244588\n",
      "\n",
      "Accuracy with 'Depth = 8' on Validation set is: 0.9864207266202673\n",
      "Accuracy with 'Depth = 8' on Testing set is: 0.9866538363077824\n",
      "\n",
      "Accuracy with 'Depth = 10' on Validation set is: 0.9868207220488908\n",
      "Accuracy with 'Depth = 10' on Testing set is: 0.987005833089526\n",
      "\n",
      "Accuracy with 'Depth = 15' on Validation set is: 0.9881921349470292\n",
      "Accuracy with 'Depth = 15' on Testing set is: 0.9884366771503803\n",
      "\n",
      "Accuracy with 'Depth = 20' on Validation set is: 0.9875087141861236\n",
      "Accuracy with 'Depth = 20' on Testing set is: 0.9878103971620831\n",
      "\n"
     ]
    }
   ],
   "source": [
    "DecisionTreeAlgorithm(split_criteria='gini', x_train=x_train, y_train=y_train,\n",
    "                    x_valid=x_valid, y_valid=y_valid, x_test=x_test, y_test=y_test)"
   ]
  },
  {
   "cell_type": "markdown",
   "metadata": {},
   "source": [
    "### Training Decision trees using the Entropy (for various depths)"
   ]
  },
  {
   "cell_type": "code",
   "execution_count": 87,
   "metadata": {},
   "outputs": [
    {
     "name": "stdout",
     "output_type": "stream",
     "text": [
      "Training, Validating & Testing the Decision Tree with 'entropy' criteria...\n",
      "Accuracy of Decision Tree classifers with various depth is shown below.\n",
      "\n",
      "Accuracy with 'Depth = 4' on Validation set is: 0.9856298785156741\n",
      "Accuracy with 'Depth = 4' on Testing set is: 0.9859109859566998\n",
      "\n",
      "Accuracy with 'Depth = 8' on Validation set is: 0.9859978743100078\n",
      "Accuracy with 'Depth = 8' on Testing set is: 0.9862721255119953\n",
      "\n",
      "Accuracy with 'Depth = 10' on Validation set is: 0.9872092890366967\n",
      "Accuracy with 'Depth = 10' on Testing set is: 0.9874652574605032\n",
      "\n",
      "Accuracy with 'Depth = 15' on Validation set is: 0.9888206991920092\n",
      "Accuracy with 'Depth = 15' on Testing set is: 0.9890081004973669\n",
      "\n",
      "Accuracy with 'Depth = 20' on Validation set is: 0.9877144261208444\n",
      "Accuracy with 'Depth = 20' on Testing set is: 0.9877692546811001\n",
      "\n"
     ]
    }
   ],
   "source": [
    "DecisionTreeAlgorithm(split_criteria='entropy', x_train=x_train, y_train=y_train,\n",
    "                    x_valid=x_valid, y_valid=y_valid, x_test=x_test, y_test=y_test)"
   ]
  },
  {
   "cell_type": "markdown",
   "metadata": {},
   "source": [
    "#### Greatest accuracy is observed for Decision Tree with \"Depth\" as 15 with criteria as \"Entropy\".\n"
   ]
  },
  {
   "cell_type": "markdown",
   "metadata": {},
   "source": [
    "# Q3 Part-2"
   ]
  },
  {
   "cell_type": "markdown",
   "metadata": {},
   "source": [
    "### Implementing a Random Forest Algorithm using 100 Decision Tree Classifier (with max-depth as 3)"
   ]
  },
  {
   "cell_type": "code",
   "execution_count": 43,
   "metadata": {},
   "outputs": [],
   "source": [
    "# number of trees\n",
    "num_trees = 100"
   ]
  },
  {
   "cell_type": "code",
   "execution_count": 44,
   "metadata": {},
   "outputs": [],
   "source": [
    "def train_trees(x_train, y_train, num_trees):\n",
    "    trees = [DecisionTreeClassifier(max_depth=3, criterion='entropy') for i in range(num_trees)]\n",
    "    \n",
    "    # random indices for bootstrap samples\n",
    "    m = x_train.shape[0]\n",
    "    indices = np.arange(m, dtype=np.int16)    \n",
    "    \n",
    "    for i in range(num_trees):\n",
    "        # Selecting n random samples with replacement from training set\n",
    "        random_indices = np.random.choice(indices, m//2)\n",
    "        \n",
    "        # Bootstrap training data\n",
    "        x_bootstrap = x_train.iloc[random_indices]\n",
    "        y_bootstrap = y_train.iloc[random_indices]\n",
    "                \n",
    "        # Train/fit the Data on the Trees\n",
    "        trees[i].fit(x_bootstrap, y_bootstrap)\n",
    "    \n",
    "    return trees"
   ]
  },
  {
   "cell_type": "code",
   "execution_count": 53,
   "metadata": {},
   "outputs": [],
   "source": [
    "def predict_outputs(trees, x_test, y_test, num_trees):\n",
    "    # Test all the 'num_trees=100' trees on the Testing samples and save the Testing results \n",
    "    trees_predictions = np.empty(shape=(num_trees, x_test.shape[0]), dtype='object')\n",
    "    for i in range(num_trees):\n",
    "        trees_predictions[i] = trees[i].predict(x_test)\n",
    "    \n",
    "    # Compute the \"Majority vote\" for each Testing sample outputs for all 100 of Decision Tree\n",
    "    y_prediction = np.empty(shape=(x_test.shape[0]), dtype='object')\n",
    "    for i in range(x_test.shape[0]):\n",
    "        y_prediction[i] = pd.Series(trees_predictions[:,i]).value_counts().index[0]\n",
    "    \n",
    "    return y_prediction, trees_predictions"
   ]
  },
  {
   "cell_type": "markdown",
   "metadata": {},
   "source": [
    "##### All 100 Decision Trees "
   ]
  },
  {
   "cell_type": "code",
   "execution_count": 46,
   "metadata": {},
   "outputs": [],
   "source": [
    "trees = train_trees(x_train=x_train, y_train=y_train, num_trees=num_trees)"
   ]
  },
  {
   "cell_type": "markdown",
   "metadata": {},
   "source": [
    "#### Reporting Accuracy of Random Forest on Testing Set"
   ]
  },
  {
   "cell_type": "code",
   "execution_count": 47,
   "metadata": {},
   "outputs": [],
   "source": [
    "y_prediction, trees_prediction = predict_outputs(\n",
    "                trees=trees, x_test=x_test, y_test=y_test, num_trees=num_trees)"
   ]
  },
  {
   "cell_type": "code",
   "execution_count": 48,
   "metadata": {},
   "outputs": [
    {
     "name": "stdout",
     "output_type": "stream",
     "text": [
      "Training a Random Forest with '100 Decision-Trees' each of depth 3.\n",
      "\n",
      "Accuracy of Random Forest on Testing set is: 0.9859109859566998\n"
     ]
    }
   ],
   "source": [
    "accuracy = (y_prediction == y_test).sum() / y_test.shape[0]\n",
    "\n",
    "print(f\"Training a Random Forest with '{num_trees} Decision-Trees' each of depth 3.\\n\")\n",
    "print(f'Accuracy of Random Forest on Testing set is: {accuracy}')"
   ]
  },
  {
   "cell_type": "markdown",
   "metadata": {},
   "source": [
    "#### Reporting Accuracy of Random Forest on Validation Set"
   ]
  },
  {
   "cell_type": "code",
   "execution_count": 49,
   "metadata": {},
   "outputs": [],
   "source": [
    "y_prediction, trees_prediction = predict_outputs(\n",
    "                trees=trees, x_test=x_valid, y_test=y_valid, num_trees=num_trees)"
   ]
  },
  {
   "cell_type": "code",
   "execution_count": 52,
   "metadata": {},
   "outputs": [
    {
     "name": "stdout",
     "output_type": "stream",
     "text": [
      "Random Forest with '100 Decision-Trees' each of depth 3.\n",
      "\n",
      "Accuracy of Random Forest on Validation Set is: 0.9856298785156741\n"
     ]
    }
   ],
   "source": [
    "accuracy = (y_prediction == y_valid).sum() / y_valid.shape[0]\n",
    "\n",
    "print(f\"Random Forest with '{num_trees} Decision-Trees' each of depth 3.\\n\")\n",
    "print(f'Accuracy of Random Forest on Validation Set is: {accuracy}')"
   ]
  },
  {
   "cell_type": "markdown",
   "metadata": {},
   "source": [
    "#### Performance of Random Forest\n",
    "\n",
    "The Testing accuracy of Random forests is nearly same as that we obtained in part-a.\n",
    "\n",
    "In part-a we used strong classifiers, i.e, Decision Trees with greater depth.\n",
    "\n",
    "In this Random forest, we used 100 weak Decision Trees classifiers (each of depth 3). Then, we ensembled or combined the results of all those 100 weak classfiers to produce a strong Decision Tree Classifier, which has nearly the same accuracy as those of strong Decision Tree Classifier. Hence, this shows the power of ensembling."
   ]
  },
  {
   "cell_type": "markdown",
   "metadata": {},
   "source": [
    "# Q3 Part-3"
   ]
  },
  {
   "cell_type": "code",
   "execution_count": 55,
   "metadata": {},
   "outputs": [],
   "source": [
    "from sklearn.ensemble import AdaBoostClassifier\n",
    "from sklearn.tree import DecisionTreeClassifier\n",
    "from sklearn.metrics import accuracy_score"
   ]
  },
  {
   "cell_type": "code",
   "execution_count": 54,
   "metadata": {},
   "outputs": [],
   "source": [
    "# No. of estimators\n",
    "estimators = [4, 8, 10, 15, 20]"
   ]
  },
  {
   "cell_type": "markdown",
   "metadata": {},
   "source": [
    "### Implementing a Random Forest Algorithm (of 100 Decision Tree Classifier) using ADABOOST"
   ]
  },
  {
   "cell_type": "markdown",
   "metadata": {},
   "source": [
    "#### Training Random Forests that are ensembled with AdaBoost Algorithm"
   ]
  },
  {
   "cell_type": "code",
   "execution_count": 56,
   "metadata": {},
   "outputs": [],
   "source": [
    "def train_AdaBoost_classifiers(x_train, y_train, estimators):\n",
    "    AdaBoosts = []\n",
    "    \n",
    "    for n_estimator in estimators:\n",
    "        # Initializing a Decision Tree\n",
    "        tree = DecisionTreeClassifier(max_depth=15, criterion='entropy')\n",
    "\n",
    "        # Adaboost Classifier\n",
    "        adaboost = AdaBoostClassifier(base_estimator=tree, n_estimators=n_estimator)\n",
    "\n",
    "        # Training Adaboost algorithm using fit()\n",
    "        adaboost.fit(x_train, y_train)\n",
    "        \n",
    "        # Adding Adaboost classifiers\n",
    "        AdaBoosts.append(adaboost)\n",
    "    return AdaBoosts"
   ]
  },
  {
   "cell_type": "markdown",
   "metadata": {},
   "source": [
    "#### Testing Random Forests that are ensembled using AdaBoost Algorithm"
   ]
  },
  {
   "cell_type": "code",
   "execution_count": 72,
   "metadata": {},
   "outputs": [],
   "source": [
    "def test_AdaBoost_classifiers(adaboosts, x_test, y_test, estimators):\n",
    "    \n",
    "    for i in range(len(estimators)):\n",
    "        # Computing Training and Testing accuracy\n",
    "        # y_prediction = adaboosts[i].predict(x_test)  \n",
    "        # accuracy = accuracy_score(y_test=y_test, y_pred=y_prediction)\n",
    "        accuracy = adaboosts[i].score(x_test, y_test)\n",
    "        \n",
    "        print(f\"Accuracy with 'n_estimators = {estimators[i]}' is: {accuracy}\")"
   ]
  },
  {
   "cell_type": "code",
   "execution_count": 57,
   "metadata": {},
   "outputs": [],
   "source": [
    "adaboosts = train_AdaBoost_classifiers(x_train=x_train, y_train=y_train, estimators=estimators)"
   ]
  },
  {
   "cell_type": "markdown",
   "metadata": {},
   "source": [
    "#### Reporting Accuracy of Random Forest (ensembled with Adaboost) on Validation Set"
   ]
  },
  {
   "cell_type": "code",
   "execution_count": 81,
   "metadata": {},
   "outputs": [
    {
     "name": "stdout",
     "output_type": "stream",
     "text": [
      "Accuracy of AdaBoost based Random Forests on Validation Set...\n",
      "\n",
      "Accuracy with 'n_estimators = 4' is: 0.9882127061405013\n",
      "Accuracy with 'n_estimators = 8' is: 0.9872595741762952\n",
      "Accuracy with 'n_estimators = 10' is: 0.9858584473320305\n",
      "Accuracy with 'n_estimators = 15' is: 0.9873692872081462\n",
      "Accuracy with 'n_estimators = 20' is: 0.9874858573044879\n"
     ]
    }
   ],
   "source": [
    "print(\"Accuracy of AdaBoost based Random Forests on Validation Set...\\n\")\n",
    "test_AdaBoost_classifiers(adaboosts=adaboosts, x_test=x_valid, y_test=y_valid, estimators=estimators)"
   ]
  },
  {
   "cell_type": "markdown",
   "metadata": {},
   "source": [
    "#### Reporting Accuracy of Random Forest (ensembled with Adaboost) on Testing Set"
   ]
  },
  {
   "cell_type": "code",
   "execution_count": 74,
   "metadata": {},
   "outputs": [
    {
     "name": "stdout",
     "output_type": "stream",
     "text": [
      "Accuracy of AdaBoost based Random Forests on Testing Set...\n",
      "\n",
      "Accuracy with 'n_estimators = 4' is: 0.9882538216793446\n",
      "Accuracy with 'n_estimators = 8' is: 0.9876823983323582\n",
      "Accuracy with 'n_estimators = 10' is: 0.9860001279988297\n",
      "Accuracy with 'n_estimators = 15' is: 0.9874675431538912\n",
      "Accuracy with 'n_estimators = 20' is: 0.9877692546811001\n"
     ]
    }
   ],
   "source": [
    "print(\"Accuracy of AdaBoost based Random Forests on Testing Set...\\n\")\n",
    "test_AdaBoost_classifiers(adaboosts=adaboosts, x_test=x_test, y_test=y_test, estimators=estimators)"
   ]
  },
  {
   "cell_type": "markdown",
   "metadata": {},
   "source": [
    "#### Results\n",
    "\n",
    "The accuracy of \"AdaBoost based Decision Tree Clssifer\" is nearly same as that of \"Random forest Classifer\" in part-b.\n",
    "\n",
    "Though the Adaboost shows slightly greater accuracy after two decimal places."
   ]
  },
  {
   "cell_type": "markdown",
   "metadata": {},
   "source": [
    "Since AdaBoost and Bagging are iterative and paralle versions of Ensembling repectively. \n",
    "\n",
    "Both of them shows similar accuracy on the Testing set. This shows benefits of Ensembling and how strong classifers are made from weak classifiers"
   ]
  }
 ],
 "metadata": {
  "kernelspec": {
   "display_name": "Python 3.10.1 64-bit",
   "language": "python",
   "name": "python3"
  },
  "language_info": {
   "codemirror_mode": {
    "name": "ipython",
    "version": 3
   },
   "file_extension": ".py",
   "mimetype": "text/x-python",
   "name": "python",
   "nbconvert_exporter": "python",
   "pygments_lexer": "ipython3",
   "version": "3.10.1"
  },
  "orig_nbformat": 4,
  "vscode": {
   "interpreter": {
    "hash": "4f91e35da70fd7a53ceee9ab287ed040d81eb2ccfac088551011048c25bbd6e1"
   }
  }
 },
 "nbformat": 4,
 "nbformat_minor": 2
}
