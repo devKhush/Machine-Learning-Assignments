{
 "cells": [
  {
   "cell_type": "code",
   "execution_count": 1,
   "metadata": {},
   "outputs": [],
   "source": [
    "import numpy as np\n",
    "import pandas as pd\n",
    "import matplotlib.pyplot as plt\n",
    "from sklearn.tree import DecisionTreeClassifier\n",
    "from sklearn.preprocessing import LabelEncoder\n",
    "from sklearn.preprocessing import StandardScaler"
   ]
  },
  {
   "cell_type": "code",
   "execution_count": 2,
   "metadata": {},
   "outputs": [],
   "source": [
    "df = pd.read_csv('BitcoinHeistData.csv')"
   ]
  },
  {
   "cell_type": "code",
   "execution_count": 3,
   "metadata": {},
   "outputs": [
    {
     "data": {
      "text/html": [
       "<div>\n",
       "<style scoped>\n",
       "    .dataframe tbody tr th:only-of-type {\n",
       "        vertical-align: middle;\n",
       "    }\n",
       "\n",
       "    .dataframe tbody tr th {\n",
       "        vertical-align: top;\n",
       "    }\n",
       "\n",
       "    .dataframe thead th {\n",
       "        text-align: right;\n",
       "    }\n",
       "</style>\n",
       "<table border=\"1\" class=\"dataframe\">\n",
       "  <thead>\n",
       "    <tr style=\"text-align: right;\">\n",
       "      <th></th>\n",
       "      <th>address</th>\n",
       "      <th>year</th>\n",
       "      <th>day</th>\n",
       "      <th>length</th>\n",
       "      <th>weight</th>\n",
       "      <th>count</th>\n",
       "      <th>looped</th>\n",
       "      <th>neighbors</th>\n",
       "      <th>income</th>\n",
       "      <th>label</th>\n",
       "    </tr>\n",
       "  </thead>\n",
       "  <tbody>\n",
       "    <tr>\n",
       "      <th>0</th>\n",
       "      <td>111K8kZAEnJg245r2cM6y9zgJGHZtJPy6</td>\n",
       "      <td>2017</td>\n",
       "      <td>11</td>\n",
       "      <td>18</td>\n",
       "      <td>0.008333</td>\n",
       "      <td>1</td>\n",
       "      <td>0</td>\n",
       "      <td>2</td>\n",
       "      <td>100050000.0</td>\n",
       "      <td>princetonCerber</td>\n",
       "    </tr>\n",
       "    <tr>\n",
       "      <th>1</th>\n",
       "      <td>1123pJv8jzeFQaCV4w644pzQJzVWay2zcA</td>\n",
       "      <td>2016</td>\n",
       "      <td>132</td>\n",
       "      <td>44</td>\n",
       "      <td>0.000244</td>\n",
       "      <td>1</td>\n",
       "      <td>0</td>\n",
       "      <td>1</td>\n",
       "      <td>100000000.0</td>\n",
       "      <td>princetonLocky</td>\n",
       "    </tr>\n",
       "    <tr>\n",
       "      <th>2</th>\n",
       "      <td>112536im7hy6wtKbpH1qYDWtTyMRAcA2p7</td>\n",
       "      <td>2016</td>\n",
       "      <td>246</td>\n",
       "      <td>0</td>\n",
       "      <td>1.000000</td>\n",
       "      <td>1</td>\n",
       "      <td>0</td>\n",
       "      <td>2</td>\n",
       "      <td>200000000.0</td>\n",
       "      <td>princetonCerber</td>\n",
       "    </tr>\n",
       "    <tr>\n",
       "      <th>3</th>\n",
       "      <td>1126eDRw2wqSkWosjTCre8cjjQW8sSeWH7</td>\n",
       "      <td>2016</td>\n",
       "      <td>322</td>\n",
       "      <td>72</td>\n",
       "      <td>0.003906</td>\n",
       "      <td>1</td>\n",
       "      <td>0</td>\n",
       "      <td>2</td>\n",
       "      <td>71200000.0</td>\n",
       "      <td>princetonCerber</td>\n",
       "    </tr>\n",
       "    <tr>\n",
       "      <th>4</th>\n",
       "      <td>1129TSjKtx65E35GiUo4AYVeyo48twbrGX</td>\n",
       "      <td>2016</td>\n",
       "      <td>238</td>\n",
       "      <td>144</td>\n",
       "      <td>0.072848</td>\n",
       "      <td>456</td>\n",
       "      <td>0</td>\n",
       "      <td>1</td>\n",
       "      <td>200000000.0</td>\n",
       "      <td>princetonLocky</td>\n",
       "    </tr>\n",
       "  </tbody>\n",
       "</table>\n",
       "</div>"
      ],
      "text/plain": [
       "                              address  year  day  length    weight  count  \\\n",
       "0   111K8kZAEnJg245r2cM6y9zgJGHZtJPy6  2017   11      18  0.008333      1   \n",
       "1  1123pJv8jzeFQaCV4w644pzQJzVWay2zcA  2016  132      44  0.000244      1   \n",
       "2  112536im7hy6wtKbpH1qYDWtTyMRAcA2p7  2016  246       0  1.000000      1   \n",
       "3  1126eDRw2wqSkWosjTCre8cjjQW8sSeWH7  2016  322      72  0.003906      1   \n",
       "4  1129TSjKtx65E35GiUo4AYVeyo48twbrGX  2016  238     144  0.072848    456   \n",
       "\n",
       "   looped  neighbors       income            label  \n",
       "0       0          2  100050000.0  princetonCerber  \n",
       "1       0          1  100000000.0   princetonLocky  \n",
       "2       0          2  200000000.0  princetonCerber  \n",
       "3       0          2   71200000.0  princetonCerber  \n",
       "4       0          1  200000000.0   princetonLocky  "
      ]
     },
     "execution_count": 3,
     "metadata": {},
     "output_type": "execute_result"
    }
   ],
   "source": [
    "df.head()"
   ]
  },
  {
   "cell_type": "code",
   "execution_count": 4,
   "metadata": {},
   "outputs": [
    {
     "data": {
      "text/plain": [
       "1LXrSb67EaH1LGc6d6kWHq8rgv4ZBQAcpU    420\n",
       "16cVG72goMe4sNqZhnpmnqfCMZ1uSFbUit    261\n",
       "12wQZTDmA8onM3sEt4jwcvzDxnNXxD8Vza    207\n",
       "12YursV58dRT2c9iuZg3jEWfwgTDamBcnd    183\n",
       "1LEq4WmpCrqBd7V3PywE2nvFUFC3QTe52x    176\n",
       "                                     ... \n",
       "14m4NjEQjLKrcjtN3doN7TgNZi3nbvPnkL      1\n",
       "1CJrNRSNJepexvLFt3wSKZkzrHRag2UMCA      1\n",
       "1Fsi7R5115vXKcSmFEoDUqqmEW4oT2W5AV      1\n",
       "1GTkpRYXAK71c5DP2V7irDmYtvmhS46h29      1\n",
       "3LFFBxp15h9KSFtaw55np8eP5fv6kdK17e      1\n",
       "Name: address, Length: 2631095, dtype: int64"
      ]
     },
     "execution_count": 4,
     "metadata": {},
     "output_type": "execute_result"
    }
   ],
   "source": [
    "df['address'].value_counts()"
   ]
  },
  {
   "cell_type": "code",
   "execution_count": 5,
   "metadata": {},
   "outputs": [
    {
     "name": "stdout",
     "output_type": "stream",
     "text": [
      "<class 'pandas.core.frame.DataFrame'>\n",
      "RangeIndex: 2916697 entries, 0 to 2916696\n",
      "Data columns (total 10 columns):\n",
      " #   Column     Dtype  \n",
      "---  ------     -----  \n",
      " 0   address    object \n",
      " 1   year       int64  \n",
      " 2   day        int64  \n",
      " 3   length     int64  \n",
      " 4   weight     float64\n",
      " 5   count      int64  \n",
      " 6   looped     int64  \n",
      " 7   neighbors  int64  \n",
      " 8   income     float64\n",
      " 9   label      object \n",
      "dtypes: float64(2), int64(6), object(2)\n",
      "memory usage: 222.5+ MB\n"
     ]
    }
   ],
   "source": [
    "df.info()"
   ]
  },
  {
   "cell_type": "markdown",
   "metadata": {},
   "source": [
    "No null values present in the Datset"
   ]
  },
  {
   "cell_type": "code",
   "execution_count": 6,
   "metadata": {},
   "outputs": [
    {
     "data": {
      "text/plain": [
       "address      0\n",
       "year         0\n",
       "day          0\n",
       "length       0\n",
       "weight       0\n",
       "count        0\n",
       "looped       0\n",
       "neighbors    0\n",
       "income       0\n",
       "label        0\n",
       "dtype: int64"
      ]
     },
     "execution_count": 6,
     "metadata": {},
     "output_type": "execute_result"
    }
   ],
   "source": [
    "df.isnull().sum()"
   ]
  },
  {
   "cell_type": "markdown",
   "metadata": {},
   "source": [
    "#### Encoding 'address' column into numerical column"
   ]
  },
  {
   "cell_type": "code",
   "execution_count": 7,
   "metadata": {},
   "outputs": [],
   "source": [
    "encoder = LabelEncoder()\n",
    "df['address'] = encoder.fit_transform(df['address'])"
   ]
  },
  {
   "cell_type": "code",
   "execution_count": 8,
   "metadata": {},
   "outputs": [
    {
     "data": {
      "text/html": [
       "<div>\n",
       "<style scoped>\n",
       "    .dataframe tbody tr th:only-of-type {\n",
       "        vertical-align: middle;\n",
       "    }\n",
       "\n",
       "    .dataframe tbody tr th {\n",
       "        vertical-align: top;\n",
       "    }\n",
       "\n",
       "    .dataframe thead th {\n",
       "        text-align: right;\n",
       "    }\n",
       "</style>\n",
       "<table border=\"1\" class=\"dataframe\">\n",
       "  <thead>\n",
       "    <tr style=\"text-align: right;\">\n",
       "      <th></th>\n",
       "      <th>address</th>\n",
       "      <th>year</th>\n",
       "      <th>day</th>\n",
       "      <th>length</th>\n",
       "      <th>weight</th>\n",
       "      <th>count</th>\n",
       "      <th>looped</th>\n",
       "      <th>neighbors</th>\n",
       "      <th>income</th>\n",
       "      <th>label</th>\n",
       "    </tr>\n",
       "  </thead>\n",
       "  <tbody>\n",
       "    <tr>\n",
       "      <th>0</th>\n",
       "      <td>23</td>\n",
       "      <td>2017</td>\n",
       "      <td>11</td>\n",
       "      <td>18</td>\n",
       "      <td>0.008333</td>\n",
       "      <td>1</td>\n",
       "      <td>0</td>\n",
       "      <td>2</td>\n",
       "      <td>100050000.0</td>\n",
       "      <td>princetonCerber</td>\n",
       "    </tr>\n",
       "    <tr>\n",
       "      <th>1</th>\n",
       "      <td>128</td>\n",
       "      <td>2016</td>\n",
       "      <td>132</td>\n",
       "      <td>44</td>\n",
       "      <td>0.000244</td>\n",
       "      <td>1</td>\n",
       "      <td>0</td>\n",
       "      <td>1</td>\n",
       "      <td>100000000.0</td>\n",
       "      <td>princetonLocky</td>\n",
       "    </tr>\n",
       "    <tr>\n",
       "      <th>2</th>\n",
       "      <td>169</td>\n",
       "      <td>2016</td>\n",
       "      <td>246</td>\n",
       "      <td>0</td>\n",
       "      <td>1.000000</td>\n",
       "      <td>1</td>\n",
       "      <td>0</td>\n",
       "      <td>2</td>\n",
       "      <td>200000000.0</td>\n",
       "      <td>princetonCerber</td>\n",
       "    </tr>\n",
       "    <tr>\n",
       "      <th>3</th>\n",
       "      <td>217</td>\n",
       "      <td>2016</td>\n",
       "      <td>322</td>\n",
       "      <td>72</td>\n",
       "      <td>0.003906</td>\n",
       "      <td>1</td>\n",
       "      <td>0</td>\n",
       "      <td>2</td>\n",
       "      <td>71200000.0</td>\n",
       "      <td>princetonCerber</td>\n",
       "    </tr>\n",
       "    <tr>\n",
       "      <th>4</th>\n",
       "      <td>293</td>\n",
       "      <td>2016</td>\n",
       "      <td>238</td>\n",
       "      <td>144</td>\n",
       "      <td>0.072848</td>\n",
       "      <td>456</td>\n",
       "      <td>0</td>\n",
       "      <td>1</td>\n",
       "      <td>200000000.0</td>\n",
       "      <td>princetonLocky</td>\n",
       "    </tr>\n",
       "  </tbody>\n",
       "</table>\n",
       "</div>"
      ],
      "text/plain": [
       "   address  year  day  length    weight  count  looped  neighbors  \\\n",
       "0       23  2017   11      18  0.008333      1       0          2   \n",
       "1      128  2016  132      44  0.000244      1       0          1   \n",
       "2      169  2016  246       0  1.000000      1       0          2   \n",
       "3      217  2016  322      72  0.003906      1       0          2   \n",
       "4      293  2016  238     144  0.072848    456       0          1   \n",
       "\n",
       "        income            label  \n",
       "0  100050000.0  princetonCerber  \n",
       "1  100000000.0   princetonLocky  \n",
       "2  200000000.0  princetonCerber  \n",
       "3   71200000.0  princetonCerber  \n",
       "4  200000000.0   princetonLocky  "
      ]
     },
     "execution_count": 8,
     "metadata": {},
     "output_type": "execute_result"
    }
   ],
   "source": [
    "df.head()"
   ]
  },
  {
   "cell_type": "code",
   "execution_count": 9,
   "metadata": {},
   "outputs": [
    {
     "data": {
      "text/plain": [
       "1925732    420\n",
       "481920     261\n",
       "105390     207\n",
       "65867      183\n",
       "1895700    176\n",
       "          ... \n",
       "292374       1\n",
       "1074094      1\n",
       "1445117      1\n",
       "1506008      1\n",
       "2580865      1\n",
       "Name: address, Length: 2631095, dtype: int64"
      ]
     },
     "execution_count": 9,
     "metadata": {},
     "output_type": "execute_result"
    }
   ],
   "source": [
    "df['address'].value_counts()"
   ]
  },
  {
   "cell_type": "markdown",
   "metadata": {},
   "source": [
    "#### Randomly shuffle the Dataset"
   ]
  },
  {
   "cell_type": "code",
   "execution_count": 10,
   "metadata": {},
   "outputs": [],
   "source": [
    "df = df.sample(frac=1)"
   ]
  },
  {
   "cell_type": "code",
   "execution_count": 11,
   "metadata": {},
   "outputs": [
    {
     "data": {
      "text/html": [
       "<div>\n",
       "<style scoped>\n",
       "    .dataframe tbody tr th:only-of-type {\n",
       "        vertical-align: middle;\n",
       "    }\n",
       "\n",
       "    .dataframe tbody tr th {\n",
       "        vertical-align: top;\n",
       "    }\n",
       "\n",
       "    .dataframe thead th {\n",
       "        text-align: right;\n",
       "    }\n",
       "</style>\n",
       "<table border=\"1\" class=\"dataframe\">\n",
       "  <thead>\n",
       "    <tr style=\"text-align: right;\">\n",
       "      <th></th>\n",
       "      <th>address</th>\n",
       "      <th>year</th>\n",
       "      <th>day</th>\n",
       "      <th>length</th>\n",
       "      <th>weight</th>\n",
       "      <th>count</th>\n",
       "      <th>looped</th>\n",
       "      <th>neighbors</th>\n",
       "      <th>income</th>\n",
       "      <th>label</th>\n",
       "    </tr>\n",
       "  </thead>\n",
       "  <tbody>\n",
       "    <tr>\n",
       "      <th>1656082</th>\n",
       "      <td>2541694</td>\n",
       "      <td>2015</td>\n",
       "      <td>165</td>\n",
       "      <td>8</td>\n",
       "      <td>0.125000</td>\n",
       "      <td>1</td>\n",
       "      <td>0</td>\n",
       "      <td>1</td>\n",
       "      <td>6.880000e+07</td>\n",
       "      <td>white</td>\n",
       "    </tr>\n",
       "    <tr>\n",
       "      <th>650976</th>\n",
       "      <td>585887</td>\n",
       "      <td>2012</td>\n",
       "      <td>255</td>\n",
       "      <td>0</td>\n",
       "      <td>0.500000</td>\n",
       "      <td>1</td>\n",
       "      <td>0</td>\n",
       "      <td>1</td>\n",
       "      <td>2.682013e+09</td>\n",
       "      <td>white</td>\n",
       "    </tr>\n",
       "    <tr>\n",
       "      <th>762950</th>\n",
       "      <td>994136</td>\n",
       "      <td>2013</td>\n",
       "      <td>2</td>\n",
       "      <td>78</td>\n",
       "      <td>0.500000</td>\n",
       "      <td>1</td>\n",
       "      <td>0</td>\n",
       "      <td>2</td>\n",
       "      <td>1.090500e+08</td>\n",
       "      <td>white</td>\n",
       "    </tr>\n",
       "    <tr>\n",
       "      <th>2645804</th>\n",
       "      <td>494603</td>\n",
       "      <td>2018</td>\n",
       "      <td>60</td>\n",
       "      <td>0</td>\n",
       "      <td>0.500000</td>\n",
       "      <td>1</td>\n",
       "      <td>0</td>\n",
       "      <td>1</td>\n",
       "      <td>2.735091e+10</td>\n",
       "      <td>white</td>\n",
       "    </tr>\n",
       "    <tr>\n",
       "      <th>1578752</th>\n",
       "      <td>121652</td>\n",
       "      <td>2015</td>\n",
       "      <td>88</td>\n",
       "      <td>2</td>\n",
       "      <td>3.666667</td>\n",
       "      <td>7</td>\n",
       "      <td>0</td>\n",
       "      <td>7</td>\n",
       "      <td>5.202173e+08</td>\n",
       "      <td>white</td>\n",
       "    </tr>\n",
       "    <tr>\n",
       "      <th>...</th>\n",
       "      <td>...</td>\n",
       "      <td>...</td>\n",
       "      <td>...</td>\n",
       "      <td>...</td>\n",
       "      <td>...</td>\n",
       "      <td>...</td>\n",
       "      <td>...</td>\n",
       "      <td>...</td>\n",
       "      <td>...</td>\n",
       "      <td>...</td>\n",
       "    </tr>\n",
       "    <tr>\n",
       "      <th>897631</th>\n",
       "      <td>1883535</td>\n",
       "      <td>2013</td>\n",
       "      <td>136</td>\n",
       "      <td>144</td>\n",
       "      <td>0.295166</td>\n",
       "      <td>3276</td>\n",
       "      <td>0</td>\n",
       "      <td>2</td>\n",
       "      <td>6.890500e+08</td>\n",
       "      <td>white</td>\n",
       "    </tr>\n",
       "    <tr>\n",
       "      <th>1501099</th>\n",
       "      <td>1909185</td>\n",
       "      <td>2015</td>\n",
       "      <td>10</td>\n",
       "      <td>8</td>\n",
       "      <td>0.200000</td>\n",
       "      <td>1</td>\n",
       "      <td>0</td>\n",
       "      <td>2</td>\n",
       "      <td>1.605393e+08</td>\n",
       "      <td>white</td>\n",
       "    </tr>\n",
       "    <tr>\n",
       "      <th>2434244</th>\n",
       "      <td>230541</td>\n",
       "      <td>2017</td>\n",
       "      <td>213</td>\n",
       "      <td>26</td>\n",
       "      <td>0.007812</td>\n",
       "      <td>1</td>\n",
       "      <td>0</td>\n",
       "      <td>2</td>\n",
       "      <td>7.645797e+09</td>\n",
       "      <td>white</td>\n",
       "    </tr>\n",
       "    <tr>\n",
       "      <th>489425</th>\n",
       "      <td>1308439</td>\n",
       "      <td>2012</td>\n",
       "      <td>93</td>\n",
       "      <td>6</td>\n",
       "      <td>0.500000</td>\n",
       "      <td>1</td>\n",
       "      <td>0</td>\n",
       "      <td>1</td>\n",
       "      <td>2.000000e+08</td>\n",
       "      <td>white</td>\n",
       "    </tr>\n",
       "    <tr>\n",
       "      <th>2113890</th>\n",
       "      <td>234112</td>\n",
       "      <td>2016</td>\n",
       "      <td>258</td>\n",
       "      <td>144</td>\n",
       "      <td>0.122135</td>\n",
       "      <td>1007</td>\n",
       "      <td>0</td>\n",
       "      <td>2</td>\n",
       "      <td>1.107313e+08</td>\n",
       "      <td>white</td>\n",
       "    </tr>\n",
       "  </tbody>\n",
       "</table>\n",
       "<p>2916697 rows × 10 columns</p>\n",
       "</div>"
      ],
      "text/plain": [
       "         address  year  day  length    weight  count  looped  neighbors  \\\n",
       "1656082  2541694  2015  165       8  0.125000      1       0          1   \n",
       "650976    585887  2012  255       0  0.500000      1       0          1   \n",
       "762950    994136  2013    2      78  0.500000      1       0          2   \n",
       "2645804   494603  2018   60       0  0.500000      1       0          1   \n",
       "1578752   121652  2015   88       2  3.666667      7       0          7   \n",
       "...          ...   ...  ...     ...       ...    ...     ...        ...   \n",
       "897631   1883535  2013  136     144  0.295166   3276       0          2   \n",
       "1501099  1909185  2015   10       8  0.200000      1       0          2   \n",
       "2434244   230541  2017  213      26  0.007812      1       0          2   \n",
       "489425   1308439  2012   93       6  0.500000      1       0          1   \n",
       "2113890   234112  2016  258     144  0.122135   1007       0          2   \n",
       "\n",
       "               income  label  \n",
       "1656082  6.880000e+07  white  \n",
       "650976   2.682013e+09  white  \n",
       "762950   1.090500e+08  white  \n",
       "2645804  2.735091e+10  white  \n",
       "1578752  5.202173e+08  white  \n",
       "...               ...    ...  \n",
       "897631   6.890500e+08  white  \n",
       "1501099  1.605393e+08  white  \n",
       "2434244  7.645797e+09  white  \n",
       "489425   2.000000e+08  white  \n",
       "2113890  1.107313e+08  white  \n",
       "\n",
       "[2916697 rows x 10 columns]"
      ]
     },
     "execution_count": 11,
     "metadata": {},
     "output_type": "execute_result"
    }
   ],
   "source": [
    "df"
   ]
  },
  {
   "cell_type": "markdown",
   "metadata": {},
   "source": [
    "# Q3 Part-1"
   ]
  },
  {
   "cell_type": "code",
   "execution_count": 12,
   "metadata": {},
   "outputs": [],
   "source": [
    "def train_test_validation_split(dataset: pd.DataFrame, size):\n",
    "    n = dataset.shape[0]\n",
    "    train_size = round((size[0]/100) * n)\n",
    "    valid_size = round((size[1]/100) * n)\n",
    "    test_size = round((size[2]/100) * n)\n",
    "    \n",
    "    x_train = dataset.iloc[0:train_size].drop('label', axis=1)\n",
    "    y_train = dataset.iloc[0:train_size]['label']\n",
    "    x_valid = dataset.iloc[train_size: train_size + valid_size].drop('label', axis=1)\n",
    "    y_valid = dataset.iloc[train_size: train_size + valid_size]['label']\n",
    "    x_test = dataset.iloc[train_size + valid_size:].drop('label', axis=1)\n",
    "    y_test = dataset.iloc[train_size + valid_size:]['label']\n",
    "    return x_train, y_train, x_valid, y_valid, x_test, y_test\n",
    "    "
   ]
  },
  {
   "cell_type": "code",
   "execution_count": 13,
   "metadata": {},
   "outputs": [],
   "source": [
    "x_train, y_train, x_valid, y_valid, x_test, y_test = train_test_validation_split(df, [70,15,15])"
   ]
  },
  {
   "cell_type": "code",
   "execution_count": 14,
   "metadata": {},
   "outputs": [],
   "source": [
    "def DecisionTreeAlgorithm(split_criteria, x_train, y_train, x_valid, y_valid, x_test, y_test):\n",
    "    print(f\"Training, Validating & Testing the Decision Tree with '{split_criteria}' criteria...\")\n",
    "    print(\"Accuracy of Decision Tree classifers with various depth is shown below.\\n\")\n",
    "    \n",
    "    for depth in  [4, 8, 10, 15, 20]:\n",
    "        tree = DecisionTreeClassifier(max_depth=depth, criterion=split_criteria)\n",
    "        tree.fit(x_train, y_train)\n",
    "        \n",
    "        # Accuracy on Validation Set\n",
    "        y_pred_valid = tree.predict(x_valid)\n",
    "        print(f\"Accuracy with 'Depth = {depth}' on Validation set is: {(y_pred_valid == y_valid).sum() / y_valid.shape[0]}\")\n",
    "        \n",
    "        # Accuracy on Testing Set\n",
    "        y_pred_test = tree.predict(x_test)\n",
    "        print(f\"Accuracy with 'Depth = {depth}' on Testing set is: {(y_pred_test == y_test).sum() / y_test.shape[0]} \\n\")"
   ]
  },
  {
   "cell_type": "markdown",
   "metadata": {},
   "source": [
    "### Training Decision trees using the Gini index (for various depths)"
   ]
  },
  {
   "cell_type": "code",
   "execution_count": 15,
   "metadata": {},
   "outputs": [
    {
     "name": "stdout",
     "output_type": "stream",
     "text": [
      "Training, Validating & Testing the Decision Tree with 'gini' criteria...\n",
      "Accuracy of Decision Tree classifers with various depth is shown below.\n",
      "\n",
      "Accuracy with 'Depth = 4' on Validation set is: 0.9856801636552726\n",
      "Accuracy with 'Depth = 4' on Testing set is: 0.9860252706260971 \n",
      "\n",
      "Accuracy with 'Depth = 8' on Validation set is: 0.9864915829533377\n",
      "Accuracy with 'Depth = 8' on Testing set is: 0.986752121123464 \n",
      "\n",
      "Accuracy with 'Depth = 10' on Validation set is: 0.9867795796619467\n",
      "Accuracy with 'Depth = 10' on Testing set is: 0.9871018322118198 \n",
      "\n",
      "Accuracy with 'Depth = 15' on Validation set is: 0.9883704186237872\n",
      "Accuracy with 'Depth = 15' on Testing set is: 0.9884663911644236 \n",
      "\n",
      "Accuracy with 'Depth = 20' on Validation set is: 0.9877349973143164\n",
      "Accuracy with 'Depth = 20' on Testing set is: 0.9876823983323582 \n",
      "\n"
     ]
    }
   ],
   "source": [
    "DecisionTreeAlgorithm(split_criteria='gini', x_train=x_train, y_train=y_train,\n",
    "                    x_valid=x_valid, y_valid=y_valid, x_test=x_test, y_test=y_test)"
   ]
  },
  {
   "cell_type": "markdown",
   "metadata": {},
   "source": [
    "### Training Decision trees using the Entropy (for various depths)"
   ]
  },
  {
   "cell_type": "code",
   "execution_count": 36,
   "metadata": {},
   "outputs": [
    {
     "name": "stdout",
     "output_type": "stream",
     "text": [
      "Training, Validating & Testing the Decision Tree with 'entropy' criteria...\n",
      "Accuracy of Decision Tree classifers with various depth is shown below.\n",
      "\n",
      "Accuracy with 'Depth = 4' on Validation set is: 0.9856230214511834\n",
      "Accuracy with 'Depth = 4' on Testing set is: 0.9859589855178467 \n",
      "\n",
      "Accuracy with 'Depth = 8' on Validation set is: 0.986002445686335\n",
      "Accuracy with 'Depth = 8' on Testing set is: 0.9863384106202457 \n",
      "\n",
      "Accuracy with 'Depth = 10' on Validation set is: 0.9874172866595811\n",
      "Accuracy with 'Depth = 10' on Testing set is: 0.9876252559976595 \n",
      "\n",
      "Accuracy with 'Depth = 15' on Validation set is: 0.9888435560736448\n",
      "Accuracy with 'Depth = 15' on Testing set is: 0.9888983872147454 \n",
      "\n",
      "Accuracy with 'Depth = 20' on Validation set is: 0.9879132809910743\n",
      "Accuracy with 'Depth = 20' on Testing set is: 0.9878858250438853 \n",
      "\n"
     ]
    }
   ],
   "source": [
    "DecisionTreeAlgorithm(split_criteria='entropy', x_train=x_train, y_train=y_train,\n",
    "                    x_valid=x_valid, y_valid=y_valid, x_test=x_test, y_test=y_test)"
   ]
  },
  {
   "cell_type": "markdown",
   "metadata": {},
   "source": [
    "Greatest accuracy is observed for Decision Tree with \"Depth\" as 15 with criteria as \"Entropy\".\n"
   ]
  },
  {
   "cell_type": "markdown",
   "metadata": {},
   "source": [
    "# Q3 Part-2"
   ]
  },
  {
   "cell_type": "code",
   "execution_count": 17,
   "metadata": {},
   "outputs": [],
   "source": [
    "num_trees = 100"
   ]
  },
  {
   "cell_type": "code",
   "execution_count": 18,
   "metadata": {},
   "outputs": [],
   "source": [
    "def train_trees(x_train, y_train, num_trees):\n",
    "    trees = [DecisionTreeClassifier(max_depth=3, criterion='entropy') for i in range(num_trees)]\n",
    "    \n",
    "    # random indices for bootstrap samples\n",
    "    m = x_train.shape[0]\n",
    "    indices = np.arange(m, dtype=np.int16)    \n",
    "    \n",
    "    for i in range(num_trees):\n",
    "        # Selecting n random samples with replacement from training set\n",
    "        random_indices = np.random.choice(indices, m//2)\n",
    "        \n",
    "        # Bootstrap training data\n",
    "        x_bootstrap = x_train.iloc[random_indices]\n",
    "        y_bootstrap = y_train.iloc[random_indices]\n",
    "                \n",
    "        # Train/fit the Data on the Trees\n",
    "        trees[i].fit(x_bootstrap, y_bootstrap)\n",
    "    \n",
    "    return trees"
   ]
  },
  {
   "cell_type": "code",
   "execution_count": 19,
   "metadata": {},
   "outputs": [],
   "source": [
    "def predict_outputs(trees, x_test, y_test, num_trees):\n",
    "    # Test all the 'num_trees=100' trees on the Testing samples and save the Testing results \n",
    "    trees_predictions = np.empty(shape=(num_trees, x_test.shape[0]), dtype='object')\n",
    "    for i in range(num_trees):\n",
    "        trees_predictions[i] = trees[i].predict(x_test)\n",
    "    \n",
    "    # Compute the \"Majority vote\" for each Testing sample outputs for all 100 of Decision Tree\n",
    "    y_prediction = np.empty(shape=(x_test.shape[0]), dtype='object')\n",
    "    for i in range(x_test.shape[0]):\n",
    "        y_prediction[i] = pd.Series(trees_predictions[:,i]).value_counts().index[0]\n",
    "    \n",
    "    return y_prediction, trees_predictions"
   ]
  },
  {
   "cell_type": "code",
   "execution_count": 20,
   "metadata": {},
   "outputs": [],
   "source": [
    "trees = train_trees(x_train=x_train, y_train=y_train, num_trees=num_trees)"
   ]
  },
  {
   "cell_type": "markdown",
   "metadata": {},
   "source": [
    "#### Reporting Accuracy on Testing Set"
   ]
  },
  {
   "cell_type": "code",
   "execution_count": 21,
   "metadata": {},
   "outputs": [],
   "source": [
    "y_prediction, trees_prediction = predict_outputs(\n",
    "                trees=trees, x_test=x_test, y_test=y_test, num_trees=num_trees)"
   ]
  },
  {
   "cell_type": "code",
   "execution_count": 22,
   "metadata": {},
   "outputs": [
    {
     "name": "stdout",
     "output_type": "stream",
     "text": [
      "Random Forest with '100 Decision-Trees' each of depth 3.\n",
      "Accuracy of Random Forest on Testing set is: 0.9859589855178467\n"
     ]
    }
   ],
   "source": [
    "accuracy = (y_prediction == y_test).sum() / y_test.shape[0]\n",
    "\n",
    "print(f\"Random Forest with '{num_trees} Decision-Trees' each of depth 3.\")\n",
    "print(f'Accuracy of Random Forest on Testing set is: {accuracy}')"
   ]
  },
  {
   "cell_type": "markdown",
   "metadata": {},
   "source": [
    "#### Reporting Accuracy on Validation Set"
   ]
  },
  {
   "cell_type": "code",
   "execution_count": 23,
   "metadata": {},
   "outputs": [],
   "source": [
    "y_prediction, trees_prediction = predict_outputs(\n",
    "                trees=trees, x_test=x_valid, y_test=y_valid, num_trees=num_trees)"
   ]
  },
  {
   "cell_type": "code",
   "execution_count": 24,
   "metadata": {},
   "outputs": [
    {
     "name": "stdout",
     "output_type": "stream",
     "text": [
      "Random Forest with '100 Decision-Trees' each of depth 3.\n",
      "Accuracy of Random Forest on Validation Set is: 0.9856230214511834\n"
     ]
    }
   ],
   "source": [
    "accuracy = (y_prediction == y_valid).sum() / y_valid.shape[0]\n",
    "\n",
    "print(f\"Random Forest with '{num_trees} Decision-Trees' each of depth 3.\")\n",
    "print(f'Accuracy of Random Forest on Validation Set is: {accuracy}')"
   ]
  },
  {
   "cell_type": "markdown",
   "metadata": {},
   "source": [
    "# Q3 Part-3"
   ]
  },
  {
   "cell_type": "code",
   "execution_count": 33,
   "metadata": {},
   "outputs": [],
   "source": [
    "from sklearn.ensemble import AdaBoostClassifier\n",
    "from sklearn.tree import DecisionTreeClassifier\n",
    "from sklearn.metrics import accuracy_score"
   ]
  },
  {
   "cell_type": "code",
   "execution_count": 26,
   "metadata": {},
   "outputs": [],
   "source": [
    "estimators = [4, 8, 10, 15, 20]"
   ]
  },
  {
   "cell_type": "code",
   "execution_count": 27,
   "metadata": {},
   "outputs": [],
   "source": [
    "def train_AdaBoost_classifiers(x_train, y_train, estimators):\n",
    "    AdaBoosts = []\n",
    "    \n",
    "    for n_estimator in estimators:\n",
    "        # print(n_estimator)\n",
    "        tree = DecisionTreeClassifier(max_depth=15, criterion='entropy')\n",
    "        adaboost = AdaBoostClassifier(base_estimator=tree, n_estimators=n_estimator)\n",
    "        adaboost.fit(x_train, y_train)\n",
    "        \n",
    "        AdaBoosts.append(adaboost)\n",
    "    \n",
    "    return AdaBoosts"
   ]
  },
  {
   "cell_type": "code",
   "execution_count": 34,
   "metadata": {},
   "outputs": [],
   "source": [
    "def test_AdaBoost_classifiers(adaboosts, x_test, y_test, estimators):\n",
    "    for i in range(len(adaboosts)):\n",
    "        # y_prediction = adaboosts[i].predict(x_test)  \n",
    "        # accuracy = accuracy_score(y_test=y_test, y_pred=y_prediction)\n",
    "        print(f\"Accuracy with 'n_estimators = {estimators[i]}' is: {adaboosts[i].score(x_test, y_test)}\")"
   ]
  },
  {
   "cell_type": "code",
   "execution_count": 30,
   "metadata": {},
   "outputs": [],
   "source": [
    "adaboosts = train_AdaBoost_classifiers(x_train=x_train, y_train=y_train, estimators=estimators)"
   ]
  },
  {
   "cell_type": "code",
   "execution_count": 35,
   "metadata": {},
   "outputs": [
    {
     "name": "stdout",
     "output_type": "stream",
     "text": [
      "Accuracy of AdaBoost with Base as Decision Tree Classifier...\n",
      "\n",
      "Accuracy with 'n_estimators = 4' is: 0.9886949605032183\n",
      "Accuracy with 'n_estimators = 8' is: 0.9872801162960796\n",
      "Accuracy with 'n_estimators = 10' is: 0.9862081260971328\n",
      "Accuracy with 'n_estimators = 15' is: 0.986880119953189\n",
      "Accuracy with 'n_estimators = 20' is: 0.987899539204213\n"
     ]
    }
   ],
   "source": [
    "print(\"Accuracy of AdaBoost with Base as Decision Tree Classifier...\\n\")\n",
    "test_AdaBoost_classifiers(adaboosts=adaboosts, x_test=x_test, y_test=y_test, estimators=estimators)"
   ]
  }
 ],
 "metadata": {
  "kernelspec": {
   "display_name": "Python 3.10.1 64-bit",
   "language": "python",
   "name": "python3"
  },
  "language_info": {
   "codemirror_mode": {
    "name": "ipython",
    "version": 3
   },
   "file_extension": ".py",
   "mimetype": "text/x-python",
   "name": "python",
   "nbconvert_exporter": "python",
   "pygments_lexer": "ipython3",
   "version": "3.10.1"
  },
  "orig_nbformat": 4,
  "vscode": {
   "interpreter": {
    "hash": "4f91e35da70fd7a53ceee9ab287ed040d81eb2ccfac088551011048c25bbd6e1"
   }
  }
 },
 "nbformat": 4,
 "nbformat_minor": 2
}
