{
 "cells": [
  {
   "cell_type": "code",
   "execution_count": 24,
   "metadata": {},
   "outputs": [],
   "source": [
    "import numpy as np\n",
    "import pandas as pd\n",
    "import matplotlib.pyplot as plt\n",
    "from sklearn.tree import DecisionTreeClassifier\n",
    "from sklearn.preprocessing import LabelEncoder\n",
    "from sklearn.preprocessing import StandardScaler"
   ]
  },
  {
   "cell_type": "code",
   "execution_count": 25,
   "metadata": {},
   "outputs": [],
   "source": [
    "df = pd.read_csv('BitcoinHeistData.csv')"
   ]
  },
  {
   "cell_type": "code",
   "execution_count": 26,
   "metadata": {},
   "outputs": [
    {
     "data": {
      "text/html": [
       "<div>\n",
       "<style scoped>\n",
       "    .dataframe tbody tr th:only-of-type {\n",
       "        vertical-align: middle;\n",
       "    }\n",
       "\n",
       "    .dataframe tbody tr th {\n",
       "        vertical-align: top;\n",
       "    }\n",
       "\n",
       "    .dataframe thead th {\n",
       "        text-align: right;\n",
       "    }\n",
       "</style>\n",
       "<table border=\"1\" class=\"dataframe\">\n",
       "  <thead>\n",
       "    <tr style=\"text-align: right;\">\n",
       "      <th></th>\n",
       "      <th>address</th>\n",
       "      <th>year</th>\n",
       "      <th>day</th>\n",
       "      <th>length</th>\n",
       "      <th>weight</th>\n",
       "      <th>count</th>\n",
       "      <th>looped</th>\n",
       "      <th>neighbors</th>\n",
       "      <th>income</th>\n",
       "      <th>label</th>\n",
       "    </tr>\n",
       "  </thead>\n",
       "  <tbody>\n",
       "    <tr>\n",
       "      <th>0</th>\n",
       "      <td>111K8kZAEnJg245r2cM6y9zgJGHZtJPy6</td>\n",
       "      <td>2017</td>\n",
       "      <td>11</td>\n",
       "      <td>18</td>\n",
       "      <td>0.008333</td>\n",
       "      <td>1</td>\n",
       "      <td>0</td>\n",
       "      <td>2</td>\n",
       "      <td>100050000.0</td>\n",
       "      <td>princetonCerber</td>\n",
       "    </tr>\n",
       "    <tr>\n",
       "      <th>1</th>\n",
       "      <td>1123pJv8jzeFQaCV4w644pzQJzVWay2zcA</td>\n",
       "      <td>2016</td>\n",
       "      <td>132</td>\n",
       "      <td>44</td>\n",
       "      <td>0.000244</td>\n",
       "      <td>1</td>\n",
       "      <td>0</td>\n",
       "      <td>1</td>\n",
       "      <td>100000000.0</td>\n",
       "      <td>princetonLocky</td>\n",
       "    </tr>\n",
       "    <tr>\n",
       "      <th>2</th>\n",
       "      <td>112536im7hy6wtKbpH1qYDWtTyMRAcA2p7</td>\n",
       "      <td>2016</td>\n",
       "      <td>246</td>\n",
       "      <td>0</td>\n",
       "      <td>1.000000</td>\n",
       "      <td>1</td>\n",
       "      <td>0</td>\n",
       "      <td>2</td>\n",
       "      <td>200000000.0</td>\n",
       "      <td>princetonCerber</td>\n",
       "    </tr>\n",
       "    <tr>\n",
       "      <th>3</th>\n",
       "      <td>1126eDRw2wqSkWosjTCre8cjjQW8sSeWH7</td>\n",
       "      <td>2016</td>\n",
       "      <td>322</td>\n",
       "      <td>72</td>\n",
       "      <td>0.003906</td>\n",
       "      <td>1</td>\n",
       "      <td>0</td>\n",
       "      <td>2</td>\n",
       "      <td>71200000.0</td>\n",
       "      <td>princetonCerber</td>\n",
       "    </tr>\n",
       "    <tr>\n",
       "      <th>4</th>\n",
       "      <td>1129TSjKtx65E35GiUo4AYVeyo48twbrGX</td>\n",
       "      <td>2016</td>\n",
       "      <td>238</td>\n",
       "      <td>144</td>\n",
       "      <td>0.072848</td>\n",
       "      <td>456</td>\n",
       "      <td>0</td>\n",
       "      <td>1</td>\n",
       "      <td>200000000.0</td>\n",
       "      <td>princetonLocky</td>\n",
       "    </tr>\n",
       "  </tbody>\n",
       "</table>\n",
       "</div>"
      ],
      "text/plain": [
       "                              address  year  day  length    weight  count  \\\n",
       "0   111K8kZAEnJg245r2cM6y9zgJGHZtJPy6  2017   11      18  0.008333      1   \n",
       "1  1123pJv8jzeFQaCV4w644pzQJzVWay2zcA  2016  132      44  0.000244      1   \n",
       "2  112536im7hy6wtKbpH1qYDWtTyMRAcA2p7  2016  246       0  1.000000      1   \n",
       "3  1126eDRw2wqSkWosjTCre8cjjQW8sSeWH7  2016  322      72  0.003906      1   \n",
       "4  1129TSjKtx65E35GiUo4AYVeyo48twbrGX  2016  238     144  0.072848    456   \n",
       "\n",
       "   looped  neighbors       income            label  \n",
       "0       0          2  100050000.0  princetonCerber  \n",
       "1       0          1  100000000.0   princetonLocky  \n",
       "2       0          2  200000000.0  princetonCerber  \n",
       "3       0          2   71200000.0  princetonCerber  \n",
       "4       0          1  200000000.0   princetonLocky  "
      ]
     },
     "execution_count": 26,
     "metadata": {},
     "output_type": "execute_result"
    }
   ],
   "source": [
    "df.head()"
   ]
  },
  {
   "cell_type": "code",
   "execution_count": 27,
   "metadata": {},
   "outputs": [
    {
     "data": {
      "text/plain": [
       "1LXrSb67EaH1LGc6d6kWHq8rgv4ZBQAcpU    420\n",
       "16cVG72goMe4sNqZhnpmnqfCMZ1uSFbUit    261\n",
       "12wQZTDmA8onM3sEt4jwcvzDxnNXxD8Vza    207\n",
       "12YursV58dRT2c9iuZg3jEWfwgTDamBcnd    183\n",
       "1LEq4WmpCrqBd7V3PywE2nvFUFC3QTe52x    176\n",
       "                                     ... \n",
       "14m4NjEQjLKrcjtN3doN7TgNZi3nbvPnkL      1\n",
       "1CJrNRSNJepexvLFt3wSKZkzrHRag2UMCA      1\n",
       "1Fsi7R5115vXKcSmFEoDUqqmEW4oT2W5AV      1\n",
       "1GTkpRYXAK71c5DP2V7irDmYtvmhS46h29      1\n",
       "3LFFBxp15h9KSFtaw55np8eP5fv6kdK17e      1\n",
       "Name: address, Length: 2631095, dtype: int64"
      ]
     },
     "execution_count": 27,
     "metadata": {},
     "output_type": "execute_result"
    }
   ],
   "source": [
    "df['address'].value_counts()"
   ]
  },
  {
   "cell_type": "code",
   "execution_count": 28,
   "metadata": {},
   "outputs": [
    {
     "name": "stdout",
     "output_type": "stream",
     "text": [
      "<class 'pandas.core.frame.DataFrame'>\n",
      "RangeIndex: 2916697 entries, 0 to 2916696\n",
      "Data columns (total 10 columns):\n",
      " #   Column     Dtype  \n",
      "---  ------     -----  \n",
      " 0   address    object \n",
      " 1   year       int64  \n",
      " 2   day        int64  \n",
      " 3   length     int64  \n",
      " 4   weight     float64\n",
      " 5   count      int64  \n",
      " 6   looped     int64  \n",
      " 7   neighbors  int64  \n",
      " 8   income     float64\n",
      " 9   label      object \n",
      "dtypes: float64(2), int64(6), object(2)\n",
      "memory usage: 222.5+ MB\n"
     ]
    }
   ],
   "source": [
    "df.info()"
   ]
  },
  {
   "cell_type": "markdown",
   "metadata": {},
   "source": [
    "No null values present in the Datset"
   ]
  },
  {
   "cell_type": "code",
   "execution_count": 29,
   "metadata": {},
   "outputs": [
    {
     "data": {
      "text/plain": [
       "address      0\n",
       "year         0\n",
       "day          0\n",
       "length       0\n",
       "weight       0\n",
       "count        0\n",
       "looped       0\n",
       "neighbors    0\n",
       "income       0\n",
       "label        0\n",
       "dtype: int64"
      ]
     },
     "execution_count": 29,
     "metadata": {},
     "output_type": "execute_result"
    }
   ],
   "source": [
    "df.isnull().sum()"
   ]
  },
  {
   "cell_type": "markdown",
   "metadata": {},
   "source": [
    "#### Encoding 'address' column into numerical column"
   ]
  },
  {
   "cell_type": "code",
   "execution_count": 30,
   "metadata": {},
   "outputs": [],
   "source": [
    "encoder = LabelEncoder()\n",
    "df['address'] = encoder.fit_transform(df['address'])"
   ]
  },
  {
   "cell_type": "code",
   "execution_count": 31,
   "metadata": {},
   "outputs": [
    {
     "data": {
      "text/html": [
       "<div>\n",
       "<style scoped>\n",
       "    .dataframe tbody tr th:only-of-type {\n",
       "        vertical-align: middle;\n",
       "    }\n",
       "\n",
       "    .dataframe tbody tr th {\n",
       "        vertical-align: top;\n",
       "    }\n",
       "\n",
       "    .dataframe thead th {\n",
       "        text-align: right;\n",
       "    }\n",
       "</style>\n",
       "<table border=\"1\" class=\"dataframe\">\n",
       "  <thead>\n",
       "    <tr style=\"text-align: right;\">\n",
       "      <th></th>\n",
       "      <th>address</th>\n",
       "      <th>year</th>\n",
       "      <th>day</th>\n",
       "      <th>length</th>\n",
       "      <th>weight</th>\n",
       "      <th>count</th>\n",
       "      <th>looped</th>\n",
       "      <th>neighbors</th>\n",
       "      <th>income</th>\n",
       "      <th>label</th>\n",
       "    </tr>\n",
       "  </thead>\n",
       "  <tbody>\n",
       "    <tr>\n",
       "      <th>0</th>\n",
       "      <td>23</td>\n",
       "      <td>2017</td>\n",
       "      <td>11</td>\n",
       "      <td>18</td>\n",
       "      <td>0.008333</td>\n",
       "      <td>1</td>\n",
       "      <td>0</td>\n",
       "      <td>2</td>\n",
       "      <td>100050000.0</td>\n",
       "      <td>princetonCerber</td>\n",
       "    </tr>\n",
       "    <tr>\n",
       "      <th>1</th>\n",
       "      <td>128</td>\n",
       "      <td>2016</td>\n",
       "      <td>132</td>\n",
       "      <td>44</td>\n",
       "      <td>0.000244</td>\n",
       "      <td>1</td>\n",
       "      <td>0</td>\n",
       "      <td>1</td>\n",
       "      <td>100000000.0</td>\n",
       "      <td>princetonLocky</td>\n",
       "    </tr>\n",
       "    <tr>\n",
       "      <th>2</th>\n",
       "      <td>169</td>\n",
       "      <td>2016</td>\n",
       "      <td>246</td>\n",
       "      <td>0</td>\n",
       "      <td>1.000000</td>\n",
       "      <td>1</td>\n",
       "      <td>0</td>\n",
       "      <td>2</td>\n",
       "      <td>200000000.0</td>\n",
       "      <td>princetonCerber</td>\n",
       "    </tr>\n",
       "    <tr>\n",
       "      <th>3</th>\n",
       "      <td>217</td>\n",
       "      <td>2016</td>\n",
       "      <td>322</td>\n",
       "      <td>72</td>\n",
       "      <td>0.003906</td>\n",
       "      <td>1</td>\n",
       "      <td>0</td>\n",
       "      <td>2</td>\n",
       "      <td>71200000.0</td>\n",
       "      <td>princetonCerber</td>\n",
       "    </tr>\n",
       "    <tr>\n",
       "      <th>4</th>\n",
       "      <td>293</td>\n",
       "      <td>2016</td>\n",
       "      <td>238</td>\n",
       "      <td>144</td>\n",
       "      <td>0.072848</td>\n",
       "      <td>456</td>\n",
       "      <td>0</td>\n",
       "      <td>1</td>\n",
       "      <td>200000000.0</td>\n",
       "      <td>princetonLocky</td>\n",
       "    </tr>\n",
       "  </tbody>\n",
       "</table>\n",
       "</div>"
      ],
      "text/plain": [
       "   address  year  day  length    weight  count  looped  neighbors  \\\n",
       "0       23  2017   11      18  0.008333      1       0          2   \n",
       "1      128  2016  132      44  0.000244      1       0          1   \n",
       "2      169  2016  246       0  1.000000      1       0          2   \n",
       "3      217  2016  322      72  0.003906      1       0          2   \n",
       "4      293  2016  238     144  0.072848    456       0          1   \n",
       "\n",
       "        income            label  \n",
       "0  100050000.0  princetonCerber  \n",
       "1  100000000.0   princetonLocky  \n",
       "2  200000000.0  princetonCerber  \n",
       "3   71200000.0  princetonCerber  \n",
       "4  200000000.0   princetonLocky  "
      ]
     },
     "execution_count": 31,
     "metadata": {},
     "output_type": "execute_result"
    }
   ],
   "source": [
    "df.head()"
   ]
  },
  {
   "cell_type": "code",
   "execution_count": 32,
   "metadata": {},
   "outputs": [
    {
     "data": {
      "text/plain": [
       "1925732    420\n",
       "481920     261\n",
       "105390     207\n",
       "65867      183\n",
       "1895700    176\n",
       "          ... \n",
       "292374       1\n",
       "1074094      1\n",
       "1445117      1\n",
       "1506008      1\n",
       "2580865      1\n",
       "Name: address, Length: 2631095, dtype: int64"
      ]
     },
     "execution_count": 32,
     "metadata": {},
     "output_type": "execute_result"
    }
   ],
   "source": [
    "df['address'].value_counts()"
   ]
  },
  {
   "cell_type": "markdown",
   "metadata": {},
   "source": [
    "#### Scaling the Dataset"
   ]
  },
  {
   "cell_type": "code",
   "execution_count": 33,
   "metadata": {},
   "outputs": [],
   "source": [
    "scalar = StandardScaler()\n",
    "scalar.fit(df.drop('label', axis=1))\n",
    "scaled_df = scalar.transform(df.drop('label', axis=1))\n",
    "scaled_df = pd.DataFrame(data=scaled_df, columns=df.columns[:-1])\n",
    "scaled_df['label'] = df['label']"
   ]
  },
  {
   "cell_type": "code",
   "execution_count": 34,
   "metadata": {},
   "outputs": [
    {
     "data": {
      "text/html": [
       "<div>\n",
       "<style scoped>\n",
       "    .dataframe tbody tr th:only-of-type {\n",
       "        vertical-align: middle;\n",
       "    }\n",
       "\n",
       "    .dataframe tbody tr th {\n",
       "        vertical-align: top;\n",
       "    }\n",
       "\n",
       "    .dataframe thead th {\n",
       "        text-align: right;\n",
       "    }\n",
       "</style>\n",
       "<table border=\"1\" class=\"dataframe\">\n",
       "  <thead>\n",
       "    <tr style=\"text-align: right;\">\n",
       "      <th></th>\n",
       "      <th>address</th>\n",
       "      <th>year</th>\n",
       "      <th>day</th>\n",
       "      <th>length</th>\n",
       "      <th>weight</th>\n",
       "      <th>count</th>\n",
       "      <th>looped</th>\n",
       "      <th>neighbors</th>\n",
       "      <th>income</th>\n",
       "      <th>label</th>\n",
       "    </tr>\n",
       "  </thead>\n",
       "  <tbody>\n",
       "    <tr>\n",
       "      <th>0</th>\n",
       "      <td>-1.729688</td>\n",
       "      <td>1.118540</td>\n",
       "      <td>-1.638825</td>\n",
       "      <td>-0.457910</td>\n",
       "      <td>-0.146203</td>\n",
       "      <td>-0.426499</td>\n",
       "      <td>-0.246819</td>\n",
       "      <td>-0.011525</td>\n",
       "      <td>-0.026830</td>\n",
       "      <td>princetonCerber</td>\n",
       "    </tr>\n",
       "    <tr>\n",
       "      <th>1</th>\n",
       "      <td>-1.729549</td>\n",
       "      <td>0.675552</td>\n",
       "      <td>-0.475496</td>\n",
       "      <td>-0.017100</td>\n",
       "      <td>-0.148404</td>\n",
       "      <td>-0.426499</td>\n",
       "      <td>-0.246819</td>\n",
       "      <td>-0.067333</td>\n",
       "      <td>-0.026830</td>\n",
       "      <td>princetonLocky</td>\n",
       "    </tr>\n",
       "    <tr>\n",
       "      <th>2</th>\n",
       "      <td>-1.729495</td>\n",
       "      <td>0.675552</td>\n",
       "      <td>0.620533</td>\n",
       "      <td>-0.763086</td>\n",
       "      <td>0.123693</td>\n",
       "      <td>-0.426499</td>\n",
       "      <td>-0.246819</td>\n",
       "      <td>-0.011525</td>\n",
       "      <td>-0.026215</td>\n",
       "      <td>princetonCerber</td>\n",
       "    </tr>\n",
       "    <tr>\n",
       "      <th>3</th>\n",
       "      <td>-1.729431</td>\n",
       "      <td>0.675552</td>\n",
       "      <td>1.351219</td>\n",
       "      <td>0.457618</td>\n",
       "      <td>-0.147408</td>\n",
       "      <td>-0.426499</td>\n",
       "      <td>-0.246819</td>\n",
       "      <td>-0.011525</td>\n",
       "      <td>-0.027007</td>\n",
       "      <td>princetonCerber</td>\n",
       "    </tr>\n",
       "    <tr>\n",
       "      <th>4</th>\n",
       "      <td>-1.729331</td>\n",
       "      <td>0.675552</td>\n",
       "      <td>0.543619</td>\n",
       "      <td>1.678322</td>\n",
       "      <td>-0.128644</td>\n",
       "      <td>-0.157216</td>\n",
       "      <td>-0.246819</td>\n",
       "      <td>-0.067333</td>\n",
       "      <td>-0.026215</td>\n",
       "      <td>princetonLocky</td>\n",
       "    </tr>\n",
       "    <tr>\n",
       "      <th>...</th>\n",
       "      <td>...</td>\n",
       "      <td>...</td>\n",
       "      <td>...</td>\n",
       "      <td>...</td>\n",
       "      <td>...</td>\n",
       "      <td>...</td>\n",
       "      <td>...</td>\n",
       "      <td>...</td>\n",
       "      <td>...</td>\n",
       "      <td>...</td>\n",
       "    </tr>\n",
       "    <tr>\n",
       "      <th>2916692</th>\n",
       "      <td>-1.688957</td>\n",
       "      <td>1.561528</td>\n",
       "      <td>1.428134</td>\n",
       "      <td>-0.763086</td>\n",
       "      <td>-0.118230</td>\n",
       "      <td>-0.426499</td>\n",
       "      <td>-0.246819</td>\n",
       "      <td>-0.067333</td>\n",
       "      <td>-0.019726</td>\n",
       "      <td>white</td>\n",
       "    </tr>\n",
       "    <tr>\n",
       "      <th>2916693</th>\n",
       "      <td>1.167364</td>\n",
       "      <td>1.561528</td>\n",
       "      <td>1.428134</td>\n",
       "      <td>-0.763086</td>\n",
       "      <td>0.123693</td>\n",
       "      <td>-0.426499</td>\n",
       "      <td>-0.246819</td>\n",
       "      <td>-0.067333</td>\n",
       "      <td>-0.027174</td>\n",
       "      <td>white</td>\n",
       "    </tr>\n",
       "    <tr>\n",
       "      <th>2916694</th>\n",
       "      <td>0.680718</td>\n",
       "      <td>1.561528</td>\n",
       "      <td>1.428134</td>\n",
       "      <td>-0.729177</td>\n",
       "      <td>3.117498</td>\n",
       "      <td>-0.423540</td>\n",
       "      <td>-0.240610</td>\n",
       "      <td>1.830120</td>\n",
       "      <td>-0.012703</td>\n",
       "      <td>white</td>\n",
       "    </tr>\n",
       "    <tr>\n",
       "      <th>2916695</th>\n",
       "      <td>-1.215344</td>\n",
       "      <td>1.561528</td>\n",
       "      <td>1.428134</td>\n",
       "      <td>-0.763086</td>\n",
       "      <td>-0.012389</td>\n",
       "      <td>-0.426499</td>\n",
       "      <td>-0.246819</td>\n",
       "      <td>-0.067333</td>\n",
       "      <td>-0.026350</td>\n",
       "      <td>white</td>\n",
       "    </tr>\n",
       "    <tr>\n",
       "      <th>2916696</th>\n",
       "      <td>1.680419</td>\n",
       "      <td>1.561528</td>\n",
       "      <td>1.428134</td>\n",
       "      <td>1.678322</td>\n",
       "      <td>-0.128338</td>\n",
       "      <td>3.597351</td>\n",
       "      <td>-0.246819</td>\n",
       "      <td>-0.011525</td>\n",
       "      <td>-0.026754</td>\n",
       "      <td>white</td>\n",
       "    </tr>\n",
       "  </tbody>\n",
       "</table>\n",
       "<p>2916697 rows × 10 columns</p>\n",
       "</div>"
      ],
      "text/plain": [
       "          address      year       day    length    weight     count    looped  \\\n",
       "0       -1.729688  1.118540 -1.638825 -0.457910 -0.146203 -0.426499 -0.246819   \n",
       "1       -1.729549  0.675552 -0.475496 -0.017100 -0.148404 -0.426499 -0.246819   \n",
       "2       -1.729495  0.675552  0.620533 -0.763086  0.123693 -0.426499 -0.246819   \n",
       "3       -1.729431  0.675552  1.351219  0.457618 -0.147408 -0.426499 -0.246819   \n",
       "4       -1.729331  0.675552  0.543619  1.678322 -0.128644 -0.157216 -0.246819   \n",
       "...           ...       ...       ...       ...       ...       ...       ...   \n",
       "2916692 -1.688957  1.561528  1.428134 -0.763086 -0.118230 -0.426499 -0.246819   \n",
       "2916693  1.167364  1.561528  1.428134 -0.763086  0.123693 -0.426499 -0.246819   \n",
       "2916694  0.680718  1.561528  1.428134 -0.729177  3.117498 -0.423540 -0.240610   \n",
       "2916695 -1.215344  1.561528  1.428134 -0.763086 -0.012389 -0.426499 -0.246819   \n",
       "2916696  1.680419  1.561528  1.428134  1.678322 -0.128338  3.597351 -0.246819   \n",
       "\n",
       "         neighbors    income            label  \n",
       "0        -0.011525 -0.026830  princetonCerber  \n",
       "1        -0.067333 -0.026830   princetonLocky  \n",
       "2        -0.011525 -0.026215  princetonCerber  \n",
       "3        -0.011525 -0.027007  princetonCerber  \n",
       "4        -0.067333 -0.026215   princetonLocky  \n",
       "...            ...       ...              ...  \n",
       "2916692  -0.067333 -0.019726            white  \n",
       "2916693  -0.067333 -0.027174            white  \n",
       "2916694   1.830120 -0.012703            white  \n",
       "2916695  -0.067333 -0.026350            white  \n",
       "2916696  -0.011525 -0.026754            white  \n",
       "\n",
       "[2916697 rows x 10 columns]"
      ]
     },
     "execution_count": 34,
     "metadata": {},
     "output_type": "execute_result"
    }
   ],
   "source": [
    "scaled_df"
   ]
  },
  {
   "cell_type": "markdown",
   "metadata": {},
   "source": [
    "#### Randomly shuffle the Dataset"
   ]
  },
  {
   "cell_type": "code",
   "execution_count": 35,
   "metadata": {},
   "outputs": [],
   "source": [
    "scaled_df = scaled_df.sample(frac=1)"
   ]
  },
  {
   "cell_type": "code",
   "execution_count": 36,
   "metadata": {},
   "outputs": [
    {
     "data": {
      "text/plain": [
       "white                          2875284\n",
       "paduaCryptoWall                  12390\n",
       "montrealCryptoLocker              9315\n",
       "princetonCerber                   9223\n",
       "princetonLocky                    6625\n",
       "montrealCryptXXX                  2419\n",
       "montrealNoobCrypt                  483\n",
       "montrealDMALockerv3                354\n",
       "montrealDMALocker                  251\n",
       "montrealSamSam                      62\n",
       "montrealCryptoTorLocker2015         55\n",
       "montrealGlobeImposter               55\n",
       "montrealGlobev3                     34\n",
       "montrealGlobe                       32\n",
       "montrealWannaCry                    28\n",
       "montrealRazy                        13\n",
       "montrealAPT                         11\n",
       "paduaKeRanger                       10\n",
       "montrealFlyper                       9\n",
       "montrealXTPLocker                    8\n",
       "montrealVenusLocker                  7\n",
       "montrealCryptConsole                 7\n",
       "montrealXLockerv5.0                  7\n",
       "montrealEDA2                         6\n",
       "montrealJigSaw                       4\n",
       "paduaJigsaw                          2\n",
       "montrealSam                          1\n",
       "montrealXLocker                      1\n",
       "montrealComradeCircle                1\n",
       "Name: label, dtype: int64"
      ]
     },
     "execution_count": 36,
     "metadata": {},
     "output_type": "execute_result"
    }
   ],
   "source": [
    "scaled_df['label'].value_counts()"
   ]
  },
  {
   "cell_type": "code",
   "execution_count": 37,
   "metadata": {},
   "outputs": [
    {
     "data": {
      "text/html": [
       "<div>\n",
       "<style scoped>\n",
       "    .dataframe tbody tr th:only-of-type {\n",
       "        vertical-align: middle;\n",
       "    }\n",
       "\n",
       "    .dataframe tbody tr th {\n",
       "        vertical-align: top;\n",
       "    }\n",
       "\n",
       "    .dataframe thead th {\n",
       "        text-align: right;\n",
       "    }\n",
       "</style>\n",
       "<table border=\"1\" class=\"dataframe\">\n",
       "  <thead>\n",
       "    <tr style=\"text-align: right;\">\n",
       "      <th></th>\n",
       "      <th>address</th>\n",
       "      <th>year</th>\n",
       "      <th>day</th>\n",
       "      <th>length</th>\n",
       "      <th>weight</th>\n",
       "      <th>count</th>\n",
       "      <th>looped</th>\n",
       "      <th>neighbors</th>\n",
       "      <th>income</th>\n",
       "      <th>label</th>\n",
       "    </tr>\n",
       "  </thead>\n",
       "  <tbody>\n",
       "    <tr>\n",
       "      <th>344957</th>\n",
       "      <td>-0.440514</td>\n",
       "      <td>-1.539389</td>\n",
       "      <td>1.274305</td>\n",
       "      <td>-0.559635</td>\n",
       "      <td>-0.113531</td>\n",
       "      <td>-0.404601</td>\n",
       "      <td>-0.246819</td>\n",
       "      <td>-0.011525</td>\n",
       "      <td>-0.003974</td>\n",
       "      <td>white</td>\n",
       "    </tr>\n",
       "    <tr>\n",
       "      <th>2329082</th>\n",
       "      <td>-1.601698</td>\n",
       "      <td>1.118540</td>\n",
       "      <td>-0.706239</td>\n",
       "      <td>-0.729177</td>\n",
       "      <td>0.123693</td>\n",
       "      <td>-0.426499</td>\n",
       "      <td>-0.246819</td>\n",
       "      <td>-0.011525</td>\n",
       "      <td>-0.026762</td>\n",
       "      <td>white</td>\n",
       "    </tr>\n",
       "    <tr>\n",
       "      <th>487126</th>\n",
       "      <td>-1.304006</td>\n",
       "      <td>-1.096400</td>\n",
       "      <td>-0.869682</td>\n",
       "      <td>-0.695269</td>\n",
       "      <td>-0.137286</td>\n",
       "      <td>-0.418213</td>\n",
       "      <td>-0.246819</td>\n",
       "      <td>-0.011525</td>\n",
       "      <td>-0.027058</td>\n",
       "      <td>white</td>\n",
       "    </tr>\n",
       "    <tr>\n",
       "      <th>1678181</th>\n",
       "      <td>0.792114</td>\n",
       "      <td>0.232564</td>\n",
       "      <td>0.053290</td>\n",
       "      <td>1.678322</td>\n",
       "      <td>-0.148110</td>\n",
       "      <td>1.337153</td>\n",
       "      <td>-0.246819</td>\n",
       "      <td>-0.011525</td>\n",
       "      <td>-0.027238</td>\n",
       "      <td>white</td>\n",
       "    </tr>\n",
       "    <tr>\n",
       "      <th>2807716</th>\n",
       "      <td>0.149866</td>\n",
       "      <td>1.561528</td>\n",
       "      <td>0.389790</td>\n",
       "      <td>-0.729177</td>\n",
       "      <td>0.123693</td>\n",
       "      <td>-0.426499</td>\n",
       "      <td>-0.246819</td>\n",
       "      <td>-0.011525</td>\n",
       "      <td>-0.027212</td>\n",
       "      <td>white</td>\n",
       "    </tr>\n",
       "    <tr>\n",
       "      <th>...</th>\n",
       "      <td>...</td>\n",
       "      <td>...</td>\n",
       "      <td>...</td>\n",
       "      <td>...</td>\n",
       "      <td>...</td>\n",
       "      <td>...</td>\n",
       "      <td>...</td>\n",
       "      <td>...</td>\n",
       "      <td>...</td>\n",
       "      <td>...</td>\n",
       "    </tr>\n",
       "    <tr>\n",
       "      <th>1669351</th>\n",
       "      <td>-1.365842</td>\n",
       "      <td>0.232564</td>\n",
       "      <td>-0.033239</td>\n",
       "      <td>-0.559635</td>\n",
       "      <td>-0.016641</td>\n",
       "      <td>-0.422356</td>\n",
       "      <td>-0.246819</td>\n",
       "      <td>-0.011525</td>\n",
       "      <td>-0.026398</td>\n",
       "      <td>white</td>\n",
       "    </tr>\n",
       "    <tr>\n",
       "      <th>460657</th>\n",
       "      <td>-1.450743</td>\n",
       "      <td>-1.096400</td>\n",
       "      <td>-1.129268</td>\n",
       "      <td>-0.763086</td>\n",
       "      <td>-0.012389</td>\n",
       "      <td>-0.426499</td>\n",
       "      <td>-0.246819</td>\n",
       "      <td>-0.067333</td>\n",
       "      <td>-0.026484</td>\n",
       "      <td>white</td>\n",
       "    </tr>\n",
       "    <tr>\n",
       "      <th>1256074</th>\n",
       "      <td>0.691980</td>\n",
       "      <td>-0.210424</td>\n",
       "      <td>-0.494725</td>\n",
       "      <td>1.678322</td>\n",
       "      <td>-0.145962</td>\n",
       "      <td>-0.015177</td>\n",
       "      <td>-0.246819</td>\n",
       "      <td>-0.011525</td>\n",
       "      <td>-0.024453</td>\n",
       "      <td>white</td>\n",
       "    </tr>\n",
       "    <tr>\n",
       "      <th>163841</th>\n",
       "      <td>1.252934</td>\n",
       "      <td>-1.539389</td>\n",
       "      <td>-0.465882</td>\n",
       "      <td>-0.729177</td>\n",
       "      <td>-0.147162</td>\n",
       "      <td>-0.426499</td>\n",
       "      <td>-0.246819</td>\n",
       "      <td>-0.011525</td>\n",
       "      <td>-0.026215</td>\n",
       "      <td>white</td>\n",
       "    </tr>\n",
       "    <tr>\n",
       "      <th>1228111</th>\n",
       "      <td>-1.506014</td>\n",
       "      <td>-0.210424</td>\n",
       "      <td>-0.763925</td>\n",
       "      <td>1.678322</td>\n",
       "      <td>-0.148471</td>\n",
       "      <td>0.232208</td>\n",
       "      <td>0.906006</td>\n",
       "      <td>-0.011525</td>\n",
       "      <td>-0.026836</td>\n",
       "      <td>white</td>\n",
       "    </tr>\n",
       "  </tbody>\n",
       "</table>\n",
       "<p>2916697 rows × 10 columns</p>\n",
       "</div>"
      ],
      "text/plain": [
       "          address      year       day    length    weight     count    looped  \\\n",
       "344957  -0.440514 -1.539389  1.274305 -0.559635 -0.113531 -0.404601 -0.246819   \n",
       "2329082 -1.601698  1.118540 -0.706239 -0.729177  0.123693 -0.426499 -0.246819   \n",
       "487126  -1.304006 -1.096400 -0.869682 -0.695269 -0.137286 -0.418213 -0.246819   \n",
       "1678181  0.792114  0.232564  0.053290  1.678322 -0.148110  1.337153 -0.246819   \n",
       "2807716  0.149866  1.561528  0.389790 -0.729177  0.123693 -0.426499 -0.246819   \n",
       "...           ...       ...       ...       ...       ...       ...       ...   \n",
       "1669351 -1.365842  0.232564 -0.033239 -0.559635 -0.016641 -0.422356 -0.246819   \n",
       "460657  -1.450743 -1.096400 -1.129268 -0.763086 -0.012389 -0.426499 -0.246819   \n",
       "1256074  0.691980 -0.210424 -0.494725  1.678322 -0.145962 -0.015177 -0.246819   \n",
       "163841   1.252934 -1.539389 -0.465882 -0.729177 -0.147162 -0.426499 -0.246819   \n",
       "1228111 -1.506014 -0.210424 -0.763925  1.678322 -0.148471  0.232208  0.906006   \n",
       "\n",
       "         neighbors    income  label  \n",
       "344957   -0.011525 -0.003974  white  \n",
       "2329082  -0.011525 -0.026762  white  \n",
       "487126   -0.011525 -0.027058  white  \n",
       "1678181  -0.011525 -0.027238  white  \n",
       "2807716  -0.011525 -0.027212  white  \n",
       "...            ...       ...    ...  \n",
       "1669351  -0.011525 -0.026398  white  \n",
       "460657   -0.067333 -0.026484  white  \n",
       "1256074  -0.011525 -0.024453  white  \n",
       "163841   -0.011525 -0.026215  white  \n",
       "1228111  -0.011525 -0.026836  white  \n",
       "\n",
       "[2916697 rows x 10 columns]"
      ]
     },
     "execution_count": 37,
     "metadata": {},
     "output_type": "execute_result"
    }
   ],
   "source": [
    "scaled_df"
   ]
  },
  {
   "cell_type": "markdown",
   "metadata": {},
   "source": [
    "# Q3 Part-1"
   ]
  },
  {
   "cell_type": "code",
   "execution_count": 38,
   "metadata": {},
   "outputs": [],
   "source": [
    "def train_test_validation_split(dataset: pd.DataFrame, size):\n",
    "    n = dataset.shape[0]\n",
    "    train_size = round((size[0]/100) * n)\n",
    "    valid_size = round((size[1]/100) * n)\n",
    "    test_size = round((size[2]/100) * n)\n",
    "    \n",
    "    x_train = dataset.iloc[0:train_size].drop('label', axis=1)\n",
    "    y_train = dataset.iloc[0:train_size]['label']\n",
    "    x_valid = dataset.iloc[train_size: train_size + valid_size].drop('label', axis=1)\n",
    "    y_valid = dataset.iloc[train_size: train_size + valid_size]['label']\n",
    "    x_test = dataset.iloc[train_size + valid_size:].drop('label', axis=1)\n",
    "    y_test = dataset.iloc[train_size + valid_size:]['label']\n",
    "    return x_train, y_train, x_valid, y_valid, x_test, y_test\n",
    "    "
   ]
  },
  {
   "cell_type": "code",
   "execution_count": 39,
   "metadata": {},
   "outputs": [],
   "source": [
    "x_train, y_train, x_valid, y_valid, x_test, y_test = train_test_validation_split(scaled_df, [70,15,15])"
   ]
  },
  {
   "cell_type": "code",
   "execution_count": 40,
   "metadata": {},
   "outputs": [],
   "source": [
    "def DecisionTreeAlgorithm(split_criteria, x_train, y_train, x_valid, y_valid, x_test, y_test):\n",
    "    print(f\"Training, Validating & Testing the Decision Tree with '{split_criteria}' criteria...\")\n",
    "    print(\"Accuracy of Decision Tree classifers with various depth is shown below.\\n\")\n",
    "    \n",
    "    for depth in  [4, 8, 10, 15, 20]:\n",
    "        tree = DecisionTreeClassifier(max_depth=depth, criterion=split_criteria)\n",
    "        tree.fit(x_train, y_train)\n",
    "        \n",
    "        # Accuracy on Validation Set\n",
    "        y_pred_valid = tree.predict(x_valid)\n",
    "        print(f\"Accuracy with 'Depth = {depth}' on Validation set is: {(y_pred_valid == y_valid).sum() / y_valid.shape[0]}\")\n",
    "        \n",
    "        # Accuracy on Testing Set\n",
    "        y_pred_test = tree.predict(x_test)\n",
    "        print(f\"Accuracy with 'Depth = {depth}' on Testing set is: {(y_pred_test == y_test).sum() / y_test.shape[0]} \\n\")"
   ]
  },
  {
   "cell_type": "markdown",
   "metadata": {},
   "source": [
    "### Training Decision trees using the Gini index (for various depths)"
   ]
  },
  {
   "cell_type": "code",
   "execution_count": 41,
   "metadata": {},
   "outputs": [
    {
     "name": "stdout",
     "output_type": "stream",
     "text": [
      "Training, Validating & Testing the Decision Tree with 'gini' criteria...\n",
      "Accuracy of Decision Tree classifers with various depth is shown below.\n",
      "\n",
      "Accuracy with 'Depth = 4' on Validation set is: 0.9857967337516143\n",
      "Accuracy with 'Depth = 4' on Testing set is: 0.9859338428905793 \n",
      "\n",
      "Accuracy with 'Depth = 8' on Validation set is: 0.9862835853304533\n",
      "Accuracy with 'Depth = 8' on Testing set is: 0.986370410327677 \n",
      "\n",
      "Accuracy with 'Depth = 10' on Validation set is: 0.9868161506725638\n",
      "Accuracy with 'Depth = 10' on Testing set is: 0.9868869770333528 \n",
      "\n",
      "Accuracy with 'Depth = 15' on Validation set is: 0.988612701569125\n",
      "Accuracy with 'Depth = 15' on Testing set is: 0.9887178174370977 \n",
      "\n",
      "Accuracy with 'Depth = 20' on Validation set is: 0.9873715728963097\n",
      "Accuracy with 'Depth = 20' on Testing set is: 0.9873144016968988 \n",
      "\n"
     ]
    }
   ],
   "source": [
    "DecisionTreeAlgorithm(split_criteria='gini', x_train=x_train, y_train=y_train,\n",
    "                    x_valid=x_valid, y_valid=y_valid, x_test=x_test, y_test=y_test)"
   ]
  },
  {
   "cell_type": "markdown",
   "metadata": {},
   "source": [
    "### Training Decision trees using the Entropy (for various depths)"
   ]
  },
  {
   "cell_type": "code",
   "execution_count": 42,
   "metadata": {},
   "outputs": [
    {
     "name": "stdout",
     "output_type": "stream",
     "text": [
      "Training, Validating & Testing the Decision Tree with 'entropy' criteria...\n",
      "Accuracy of Decision Tree classifers with various depth is shown below.\n",
      "\n",
      "Accuracy with 'Depth = 4' on Validation set is: 0.9857350201711981\n",
      "Accuracy with 'Depth = 4' on Testing set is: 0.9858927004095962 \n",
      "\n",
      "Accuracy with 'Depth = 8' on Validation set is: 0.9861190157826768\n",
      "Accuracy with 'Depth = 8' on Testing set is: 0.9862629827384435 \n",
      "\n",
      "Accuracy with 'Depth = 10' on Validation set is: 0.9871635752734255\n",
      "Accuracy with 'Depth = 10' on Testing set is: 0.9873235444704506 \n",
      "\n",
      "Accuracy with 'Depth = 15' on Validation set is: 0.9887269859773031\n",
      "Accuracy with 'Depth = 15' on Testing set is: 0.9887612456114687 \n",
      "\n",
      "Accuracy with 'Depth = 20' on Validation set is: 0.9875475708849042\n",
      "Accuracy with 'Depth = 20' on Testing set is: 0.987520114101814 \n",
      "\n"
     ]
    }
   ],
   "source": [
    "DecisionTreeAlgorithm(split_criteria='entropy', x_train=x_train, y_train=y_train,\n",
    "                    x_valid=x_valid, y_valid=y_valid, x_test=x_test, y_test=y_test)"
   ]
  },
  {
   "cell_type": "markdown",
   "metadata": {},
   "source": [
    "Greatest accuracy is observed for Decision Tree with \"Depth\" as 15 with criteria as \"Entropy\".\n"
   ]
  },
  {
   "cell_type": "markdown",
   "metadata": {},
   "source": [
    "# Q3 Part-2"
   ]
  },
  {
   "cell_type": "code",
   "execution_count": 43,
   "metadata": {},
   "outputs": [],
   "source": [
    "num_trees = 100"
   ]
  },
  {
   "cell_type": "code",
   "execution_count": 44,
   "metadata": {},
   "outputs": [],
   "source": [
    "def train_trees(x_train, y_train, num_trees):\n",
    "    trees = [DecisionTreeClassifier(max_depth=3, criterion='entropy') for i in range(num_trees)]\n",
    "    \n",
    "    # random indices for bootstrap samples\n",
    "    m = x_train.shape[0]\n",
    "    indices = np.arange(m, dtype=np.int16)    \n",
    "    \n",
    "    for i in range(num_trees):\n",
    "        # Selecting n random samples with replacement from training set\n",
    "        random_indices = np.random.choice(indices, m//2)\n",
    "        \n",
    "        # Bootstrap training data\n",
    "        x_bootstrap = x_train.iloc[random_indices]\n",
    "        y_bootstrap = y_train.iloc[random_indices]\n",
    "                \n",
    "        # Train/fit the Data on the Trees\n",
    "        trees[i].fit(x_bootstrap, y_bootstrap)\n",
    "    \n",
    "    return trees"
   ]
  },
  {
   "cell_type": "code",
   "execution_count": 45,
   "metadata": {},
   "outputs": [],
   "source": [
    "def predict_outputs(trees, x_test, y_test, num_trees):\n",
    "    # Test all the 'num_trees=100' trees on the Testing samples and save the Testing results \n",
    "    trees_predictions = np.empty(shape=(num_trees, x_test.shape[0]), dtype='object')\n",
    "    for i in range(num_trees):\n",
    "        trees_predictions[i] = trees[i].predict(x_test)\n",
    "    \n",
    "    # Compute the \"Majority vote\" for each Testing sample outputs for all 100 of Decision Tree\n",
    "    y_prediction = np.empty(shape=(x_test.shape[0]), dtype='object')\n",
    "    for i in range(x_test.shape[0]):\n",
    "        y_prediction[i] = pd.Series(trees_predictions[:,i]).value_counts().index[0]\n",
    "    \n",
    "    return y_prediction, trees_predictions"
   ]
  },
  {
   "cell_type": "code",
   "execution_count": 46,
   "metadata": {},
   "outputs": [],
   "source": [
    "trees = train_trees(x_train=x_train, y_train=y_train, num_trees=num_trees)"
   ]
  },
  {
   "cell_type": "markdown",
   "metadata": {},
   "source": [
    "#### Reporting Accuracy on Testing Set"
   ]
  },
  {
   "cell_type": "code",
   "execution_count": 47,
   "metadata": {},
   "outputs": [],
   "source": [
    "y_prediction, trees_prediction = predict_outputs(\n",
    "                trees=trees, x_test=x_test, y_test=y_test, num_trees=num_trees)"
   ]
  },
  {
   "cell_type": "code",
   "execution_count": 48,
   "metadata": {},
   "outputs": [
    {
     "name": "stdout",
     "output_type": "stream",
     "text": [
      "Random Forest with '100 Decision-Trees' each of depth 3.\n",
      "Accuracy of Random Forest on Testing set is: 0.9858927004095962\n"
     ]
    }
   ],
   "source": [
    "accuracy = (y_prediction == y_test).sum() / y_test.shape[0]\n",
    "\n",
    "print(f\"Random Forest with '{num_trees} Decision-Trees' each of depth 3.\")\n",
    "print(f'Accuracy of Random Forest on Testing set is: {accuracy}')"
   ]
  },
  {
   "cell_type": "markdown",
   "metadata": {},
   "source": [
    "#### Reporting Accuracy on Validation Set"
   ]
  },
  {
   "cell_type": "code",
   "execution_count": 49,
   "metadata": {},
   "outputs": [],
   "source": [
    "y_prediction, trees_prediction = predict_outputs(\n",
    "                trees=trees, x_test=x_valid, y_test=y_valid, num_trees=num_trees)"
   ]
  },
  {
   "cell_type": "code",
   "execution_count": 50,
   "metadata": {},
   "outputs": [
    {
     "name": "stdout",
     "output_type": "stream",
     "text": [
      "Random Forest with '100 Decision-Trees' each of depth 3.\n",
      "Accuracy of Random Forest on Validation Set is: 0.9857350201711981\n"
     ]
    }
   ],
   "source": [
    "accuracy = (y_prediction == y_valid).sum() / y_valid.shape[0]\n",
    "\n",
    "print(f\"Random Forest with '{num_trees} Decision-Trees' each of depth 3.\")\n",
    "print(f'Accuracy of Random Forest on Validation Set is: {accuracy}')"
   ]
  },
  {
   "cell_type": "markdown",
   "metadata": {},
   "source": [
    "# Q3 Part-3"
   ]
  },
  {
   "cell_type": "code",
   "execution_count": 51,
   "metadata": {},
   "outputs": [],
   "source": [
    "from sklearn.ensemble import AdaBoostClassifier\n",
    "from sklearn.tree import DecisionTreeClassifier"
   ]
  },
  {
   "cell_type": "code",
   "execution_count": 52,
   "metadata": {},
   "outputs": [],
   "source": [
    "estimators = [4, 8, 10, 15, 20]"
   ]
  },
  {
   "cell_type": "code",
   "execution_count": 59,
   "metadata": {},
   "outputs": [],
   "source": [
    "def train_AdaBoost_classifiers(x_train, y_train, estimators):\n",
    "    AdaBoosts = []\n",
    "    \n",
    "    for n_estimator in estimators:\n",
    "        # print(n_estimator)\n",
    "        tree = DecisionTreeClassifier(max_depth=15, criterion='entropy')\n",
    "        adaboost = AdaBoostClassifier(base_estimator=tree, n_estimators=n_estimator)\n",
    "        adaboost.fit(x_train, y_train)\n",
    "        \n",
    "        AdaBoosts.append(adaboost)\n",
    "    \n",
    "    return AdaBoosts"
   ]
  },
  {
   "cell_type": "code",
   "execution_count": 57,
   "metadata": {},
   "outputs": [],
   "source": [
    "def test_AdaBoost_classifiers(adaboosts, x_test, y_test, estimators):\n",
    "    for i in range(len(adaboosts)):\n",
    "        # y_prediction = adaboosts[i].predict(x_test)  \n",
    "        # accuracy = (y_prediction == y_test).sum() / y_test.shape[0]  \n",
    "        print(f\"Accuracy with 'n_estimators = {estimators[i]}' is: {adaboosts[i].score(x_test, y_test)}\")"
   ]
  },
  {
   "cell_type": "code",
   "execution_count": null,
   "metadata": {},
   "outputs": [],
   "source": [
    "adaboosts = train_AdaBoost_classifiers(x_train=x_train, y_train=y_train, estimators=estimators)"
   ]
  },
  {
   "cell_type": "code",
   "execution_count": 58,
   "metadata": {},
   "outputs": [
    {
     "name": "stdout",
     "output_type": "stream",
     "text": [
      "Accuracy with 'n_estimators = 4' is: 0.9887109603569338\n",
      "Accuracy with 'n_estimators = 8' is: 0.9883543921884143\n",
      "Accuracy with 'n_estimators = 10' is: 0.9853372769163253\n",
      "Accuracy with 'n_estimators = 15' is: 0.9872572593622001\n",
      "Accuracy with 'n_estimators = 20' is: 0.9876069704505559\n"
     ]
    }
   ],
   "source": [
    "test_AdaBoost_classifiers(adaboosts=adaboosts, x_test=x_test, y_test=y_test, estimators=estimators)"
   ]
  },
  {
   "cell_type": "code",
   "execution_count": null,
   "metadata": {},
   "outputs": [],
   "source": []
  }
 ],
 "metadata": {
  "kernelspec": {
   "display_name": "Python 3.10.1 64-bit",
   "language": "python",
   "name": "python3"
  },
  "language_info": {
   "codemirror_mode": {
    "name": "ipython",
    "version": 3
   },
   "file_extension": ".py",
   "mimetype": "text/x-python",
   "name": "python",
   "nbconvert_exporter": "python",
   "pygments_lexer": "ipython3",
   "version": "3.10.1"
  },
  "orig_nbformat": 4,
  "vscode": {
   "interpreter": {
    "hash": "4f91e35da70fd7a53ceee9ab287ed040d81eb2ccfac088551011048c25bbd6e1"
   }
  }
 },
 "nbformat": 4,
 "nbformat_minor": 2
}
