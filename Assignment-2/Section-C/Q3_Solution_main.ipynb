{
 "cells": [
  {
   "cell_type": "code",
   "execution_count": 6,
   "metadata": {},
   "outputs": [],
   "source": [
    "import numpy as np\n",
    "import pandas as pd\n",
    "import matplotlib.pyplot as plt\n",
    "from sklearn.tree import DecisionTreeClassifier  "
   ]
  },
  {
   "cell_type": "code",
   "execution_count": 2,
   "metadata": {},
   "outputs": [],
   "source": [
    "df = pd.read_csv('BitcoinHeistData.csv')"
   ]
  },
  {
   "cell_type": "code",
   "execution_count": 3,
   "metadata": {},
   "outputs": [
    {
     "name": "stdout",
     "output_type": "stream",
     "text": [
      "<class 'pandas.core.frame.DataFrame'>\n",
      "RangeIndex: 2916697 entries, 0 to 2916696\n",
      "Data columns (total 10 columns):\n",
      " #   Column     Dtype  \n",
      "---  ------     -----  \n",
      " 0   address    object \n",
      " 1   year       int64  \n",
      " 2   day        int64  \n",
      " 3   length     int64  \n",
      " 4   weight     float64\n",
      " 5   count      int64  \n",
      " 6   looped     int64  \n",
      " 7   neighbors  int64  \n",
      " 8   income     float64\n",
      " 9   label      object \n",
      "dtypes: float64(2), int64(6), object(2)\n",
      "memory usage: 222.5+ MB\n"
     ]
    }
   ],
   "source": [
    "df.info()"
   ]
  },
  {
   "cell_type": "markdown",
   "metadata": {},
   "source": [
    "No null values present in the Datset"
   ]
  },
  {
   "cell_type": "code",
   "execution_count": 4,
   "metadata": {},
   "outputs": [
    {
     "data": {
      "text/plain": [
       "address      0\n",
       "year         0\n",
       "day          0\n",
       "length       0\n",
       "weight       0\n",
       "count        0\n",
       "looped       0\n",
       "neighbors    0\n",
       "income       0\n",
       "label        0\n",
       "dtype: int64"
      ]
     },
     "execution_count": 4,
     "metadata": {},
     "output_type": "execute_result"
    }
   ],
   "source": [
    "df.isnull().sum()"
   ]
  },
  {
   "cell_type": "markdown",
   "metadata": {},
   "source": [
    "# Q3 Part-1"
   ]
  },
  {
   "cell_type": "code",
   "execution_count": 18,
   "metadata": {},
   "outputs": [],
   "source": [
    "def train_validation_test_split(dataset: pd.DataFrame, size):\n",
    "    train_size = round((size[0]/100) * dataset.shape[0])\n",
    "    valid_size = round((size[1]/100) * dataset.shape[0])\n",
    "    test_size = round((size[2]/100) * dataset.shape[0])\n",
    "    \n",
    "    x_train = dataset.iloc[0:train_size].drop('label', axis=1)\n",
    "    y_train = dataset.iloc[0:train_size]['label']\n",
    "    x_valid = dataset.iloc[train_size: train_size + valid_size].drop('label', axis=1)\n",
    "    y_valid = dataset.iloc[train_size: train_size + valid_size]['label']\n",
    "    x_test = dataset.iloc[train_size + valid_size:].drop('label', axis=1)\n",
    "    y_test = dataset.iloc[train_size + valid_size:]['label']\n",
    "    return x_train, y_train, x_valid, y_valid, x_test, y_test"
   ]
  },
  {
   "cell_type": "code",
   "execution_count": 14,
   "metadata": {},
   "outputs": [],
   "source": [
    "x_train, y_train, x_valid, y_valid, x_test, y_test = train_validation_test_split(df, [70,15,15])"
   ]
  },
  {
   "cell_type": "code",
   "execution_count": 15,
   "metadata": {},
   "outputs": [
    {
     "data": {
      "text/plain": [
       "(2041688, 9)"
      ]
     },
     "execution_count": 15,
     "metadata": {},
     "output_type": "execute_result"
    }
   ],
   "source": [
    "x_train.shape"
   ]
  },
  {
   "cell_type": "code",
   "execution_count": 20,
   "metadata": {},
   "outputs": [
    {
     "data": {
      "text/plain": [
       "0          princetonCerber\n",
       "1           princetonLocky\n",
       "2          princetonCerber\n",
       "3          princetonCerber\n",
       "4           princetonLocky\n",
       "                ...       \n",
       "2041683              white\n",
       "2041684              white\n",
       "2041685              white\n",
       "2041686              white\n",
       "2041687              white\n",
       "Name: label, Length: 2041688, dtype: object"
      ]
     },
     "execution_count": 20,
     "metadata": {},
     "output_type": "execute_result"
    }
   ],
   "source": [
    "y_train"
   ]
  },
  {
   "cell_type": "code",
   "execution_count": 16,
   "metadata": {},
   "outputs": [
    {
     "data": {
      "text/plain": [
       "(437505, 9)"
      ]
     },
     "execution_count": 16,
     "metadata": {},
     "output_type": "execute_result"
    }
   ],
   "source": [
    "x_valid.shape"
   ]
  },
  {
   "cell_type": "code",
   "execution_count": 17,
   "metadata": {},
   "outputs": [
    {
     "data": {
      "text/plain": [
       "(437504, 9)"
      ]
     },
     "execution_count": 17,
     "metadata": {},
     "output_type": "execute_result"
    }
   ],
   "source": [
    "x_test.shape"
   ]
  }
 ],
 "metadata": {
  "kernelspec": {
   "display_name": "Python 3.10.1 64-bit",
   "language": "python",
   "name": "python3"
  },
  "language_info": {
   "codemirror_mode": {
    "name": "ipython",
    "version": 3
   },
   "file_extension": ".py",
   "mimetype": "text/x-python",
   "name": "python",
   "nbconvert_exporter": "python",
   "pygments_lexer": "ipython3",
   "version": "3.10.1"
  },
  "orig_nbformat": 4,
  "vscode": {
   "interpreter": {
    "hash": "4f91e35da70fd7a53ceee9ab287ed040d81eb2ccfac088551011048c25bbd6e1"
   }
  }
 },
 "nbformat": 4,
 "nbformat_minor": 2
}
