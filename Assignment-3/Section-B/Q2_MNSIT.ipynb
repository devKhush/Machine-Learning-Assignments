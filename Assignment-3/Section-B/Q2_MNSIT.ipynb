{
 "cells": [
  {
   "cell_type": "code",
   "execution_count": 1,
   "metadata": {},
   "outputs": [],
   "source": [
    "import os\n",
    "import numpy as np\n",
    "import pandas as pd\n",
    "import struct\n",
    "import matplotlib.pyplot as plt\n",
    "import tensorflow as tf\n",
    "import warnings\n",
    "warnings.filterwarnings('ignore')"
   ]
  },
  {
   "cell_type": "markdown",
   "metadata": {},
   "source": [
    "#### Functions to load Training Data and Testing Data"
   ]
  },
  {
   "cell_type": "code",
   "execution_count": 2,
   "metadata": {},
   "outputs": [],
   "source": [
    "def load_training_data():\n",
    "    f_image = open('data/train-images.idx3-ubyte', 'rb')\n",
    "    f_label = open('data/train-labels.idx1-ubyte', 'rb')\n",
    "    \n",
    "    magic_number, size, row, column = struct.unpack(\">IIII\", f_image.read(16))\n",
    "    image_data = np.fromfile(f_image, dtype=np.uint8)\n",
    "    print(\"Training Image Data:\")\n",
    "    print(magic_number, size, row, column)\n",
    "    print(image_data.shape, '\\n')\n",
    "    \n",
    "    magic_number, size = struct.unpack(\">II\", f_label.read(8))    \n",
    "    image_label = np.fromfile(f_label, dtype=np.uint8)\n",
    "    print(\"Training Image Label:\")\n",
    "    print(magic_number, size)\n",
    "    print(image_label.shape, '\\n')\n",
    "    \n",
    "    image_data = np.array(image_data).reshape((size, row, column))\n",
    "    return image_data, image_label\n",
    "\n",
    "\n",
    "def load_testing_data():\n",
    "    f_image = open('data/t10k-images.idx3-ubyte', 'rb')\n",
    "    f_label = open('data/t10k-labels.idx1-ubyte', 'rb')\n",
    "    \n",
    "    magic_number, size, row, column = struct.unpack(\">IIII\", f_image.read(16))\n",
    "    image_data = np.fromfile(f_image, dtype=np.uint8)\n",
    "    print(\"Testing Image Data:\")\n",
    "    print(magic_number, size, row, column)\n",
    "    print(image_data.shape, '\\n')\n",
    "    \n",
    "    magic_number, size = struct.unpack(\">II\", f_label.read(8))    \n",
    "    image_label = np.fromfile(f_label, dtype=np.uint8)\n",
    "    print(\"Testing Image Label:\")\n",
    "    print(magic_number, size)\n",
    "    print(image_label.shape, '\\n')\n",
    "    \n",
    "    image_data = np.array(image_data).reshape((size, row, column))\n",
    "    return image_data, image_label"
   ]
  },
  {
   "cell_type": "markdown",
   "metadata": {},
   "source": [
    "#### Loading Training and Testing Data"
   ]
  },
  {
   "cell_type": "code",
   "execution_count": 3,
   "metadata": {},
   "outputs": [
    {
     "name": "stdout",
     "output_type": "stream",
     "text": [
      "Training Image Data:\n",
      "2051 60000 28 28\n",
      "(47040000,) \n",
      "\n",
      "Training Image Label:\n",
      "2049 60000\n",
      "(60000,) \n",
      "\n",
      "Testing Image Data:\n",
      "2051 10000 28 28\n",
      "(7840000,) \n",
      "\n",
      "Testing Image Label:\n",
      "2049 10000\n",
      "(10000,) \n",
      "\n"
     ]
    }
   ],
   "source": [
    "train_image_data, train_image_label = load_training_data()\n",
    "test_image_data, test_image_label = load_testing_data()"
   ]
  },
  {
   "cell_type": "code",
   "execution_count": 4,
   "metadata": {},
   "outputs": [
    {
     "name": "stdout",
     "output_type": "stream",
     "text": [
      "5\n"
     ]
    },
    {
     "data": {
      "image/png": "[encoded data removed]",
      "text/plain": [
       "<Figure size 432x288 with 1 Axes>"
      ]
     },
     "metadata": {
      "needs_background": "light"
     },
     "output_type": "display_data"
    }
   ],
   "source": [
    "plt.imshow(train_image_data[0], cmap='gray');\n",
    "print(train_image_label[0])"
   ]
  },
  {
   "cell_type": "code",
   "execution_count": 5,
   "metadata": {},
   "outputs": [
    {
     "name": "stdout",
     "output_type": "stream",
     "text": [
      "1\n"
     ]
    },
    {
     "data": {
      "image/png": "[encoded data removed]",
      "text/plain": [
       "<Figure size 432x288 with 1 Axes>"
      ]
     },
     "metadata": {
      "needs_background": "light"
     },
     "output_type": "display_data"
    }
   ],
   "source": [
    "plt.imshow(train_image_data[6], cmap='gray');\n",
    "print(train_image_label[6])"
   ]
  },
  {
   "cell_type": "code",
   "execution_count": 6,
   "metadata": {},
   "outputs": [
    {
     "name": "stdout",
     "output_type": "stream",
     "text": [
      "0\n"
     ]
    },
    {
     "data": {
      "image/png": "[encoded data removed]",
      "text/plain": [
       "<Figure size 432x288 with 1 Axes>"
      ]
     },
     "metadata": {
      "needs_background": "light"
     },
     "output_type": "display_data"
    }
   ],
   "source": [
    "plt.imshow(train_image_data[1], cmap='gray');\n",
    "print(train_image_label[1])"
   ]
  },
  {
   "cell_type": "code",
   "execution_count": 7,
   "metadata": {},
   "outputs": [
    {
     "name": "stdout",
     "output_type": "stream",
     "text": [
      "4\n"
     ]
    },
    {
     "data": {
      "image/png": "[encoded data removed]",
      "text/plain": [
       "<Figure size 432x288 with 1 Axes>"
      ]
     },
     "metadata": {
      "needs_background": "light"
     },
     "output_type": "display_data"
    }
   ],
   "source": [
    "plt.imshow(train_image_data[2], cmap='gray');\n",
    "print(train_image_label[2])"
   ]
  },
  {
   "cell_type": "code",
   "execution_count": 8,
   "metadata": {},
   "outputs": [
    {
     "name": "stdout",
     "output_type": "stream",
     "text": [
      "(60000, 28, 28)\n",
      "(60000,)\n",
      "(10000, 28, 28)\n",
      "(10000,)\n"
     ]
    }
   ],
   "source": [
    "print(train_image_data.shape)\n",
    "print(train_image_label.shape)\n",
    "print(test_image_data.shape)\n",
    "print(test_image_label.shape)"
   ]
  },
  {
   "cell_type": "code",
   "execution_count": 9,
   "metadata": {},
   "outputs": [
    {
     "data": {
      "text/plain": [
       "array([5, 0, 4, 1, 9, 2, 3, 6, 7, 8], dtype=uint8)"
      ]
     },
     "execution_count": 9,
     "metadata": {},
     "output_type": "execute_result"
    }
   ],
   "source": [
    "# Get all the label classes\n",
    "pd.Series(train_image_label).unique()"
   ]
  },
  {
   "cell_type": "markdown",
   "metadata": {},
   "source": [
    "## Running Neural networks on MNSIT Dataset"
   ]
  },
  {
   "cell_type": "code",
   "execution_count": 10,
   "metadata": {},
   "outputs": [],
   "source": [
    "import numpy as np\n",
    "import pandas as pd\n",
    "from NeuralNetwork import NeuralNetwork\n",
    "import warnings\n",
    "warnings.filterwarnings(\"ignore\")"
   ]
  },
  {
   "cell_type": "code",
   "execution_count": 11,
   "metadata": {},
   "outputs": [],
   "source": [
    "n_classes = 10\n",
    "n_samples, n_rows, n_cols = train_image_data.shape\n",
    "n_features = n_rows * n_cols"
   ]
  },
  {
   "cell_type": "code",
   "execution_count": 12,
   "metadata": {},
   "outputs": [],
   "source": [
    "x_train = pd.DataFrame(data=train_image_data.reshape((train_image_data.shape[0], n_rows*n_cols)))\n",
    "x_test = pd.DataFrame(data=test_image_data.reshape((test_image_data.shape[0], n_rows*n_cols)))\n",
    "y_train = np.eye(10)[train_image_label]\n",
    "y_test = np.eye(10)[test_image_label]"
   ]
  },
  {
   "cell_type": "code",
   "execution_count": null,
   "metadata": {},
   "outputs": [],
   "source": [
    "."
   ]
  },
  {
   "cell_type": "markdown",
   "metadata": {},
   "source": [
    "### Running MNSIT dataset on 'Neural network' with Activation function as 'ReLU'"
   ]
  },
  {
   "cell_type": "code",
   "execution_count": 13,
   "metadata": {},
   "outputs": [
    {
     "name": "stdout",
     "output_type": "stream",
     "text": [
      "0 1 2 3 4 5 6 7 8 9 "
     ]
    },
    {
     "data": {
      "image/png": "[encoded data removed]",
      "text/plain": [
       "<Figure size 576x576 with 1 Axes>"
      ]
     },
     "metadata": {
      "needs_background": "light"
     },
     "output_type": "display_data"
    }
   ],
   "source": [
    "NN_relu = NeuralNetwork(N=4, neuronInEachLayers=[n_features,256,128,64,32,n_classes], lr=1e-4, \n",
    "                    activation='relu', weightInitType='normal', epochs=10, batchSize=128)\n",
    "\n",
    "NN_relu.fit(x_train, y_train, x_test, y_test)"
   ]
  },
  {
   "cell_type": "code",
   "execution_count": 14,
   "metadata": {},
   "outputs": [],
   "source": [
    "y_pred = NN_relu.predict(x_test)\n",
    "y_pred_proba = NN_relu.predict_proba(x_test)"
   ]
  },
  {
   "cell_type": "code",
   "execution_count": 15,
   "metadata": {},
   "outputs": [
    {
     "name": "stdout",
     "output_type": "stream",
     "text": [
      "Accuracy on Training Dataset:  97.91499999999999\n",
      "Accuracy on Testing Dataset:  96.11\n"
     ]
    }
   ],
   "source": [
    "print(\"Accuracy on Training Dataset: \", NN_relu.score(x_train, y_train)*100)\n",
    "print(\"Accuracy on Testing Dataset: \", NN_relu.score(x_test, y_test)*100)"
   ]
  },
  {
   "cell_type": "code",
   "execution_count": 23,
   "metadata": {},
   "outputs": [],
   "source": [
    "import pickle \n",
    "with open('NN_Objects/relu.pickle', 'wb') as pickle_out: \n",
    "    pickle.dump(NN_relu, pickle_out)"
   ]
  },
  {
   "cell_type": "code",
   "execution_count": 5,
   "metadata": {},
   "outputs": [
    {
     "name": "stdout",
     "output_type": "stream",
     "text": [
      "relu\n"
     ]
    }
   ],
   "source": [
    "import pickle\n",
    "with open('NN_Objects/relu.pickle', 'rb') as pickle_in:\n",
    "    nn_relu_obj = pickle.load(pickle_in)\n",
    "    print(nn_relu_obj)"
   ]
  },
  {
   "cell_type": "code",
   "execution_count": 16,
   "metadata": {},
   "outputs": [
    {
     "ename": "SyntaxError",
     "evalue": "invalid syntax (1933637684.py, line 1)",
     "output_type": "error",
     "traceback": [
      "\u001b[1;36m  Input \u001b[1;32mIn [16]\u001b[1;36m\u001b[0m\n\u001b[1;33m    .\u001b[0m\n\u001b[1;37m    ^\u001b[0m\n\u001b[1;31mSyntaxError\u001b[0m\u001b[1;31m:\u001b[0m invalid syntax\n"
     ]
    }
   ],
   "source": [
    "."
   ]
  },
  {
   "cell_type": "markdown",
   "metadata": {},
   "source": [
    "### Running MNSIT dataset on 'Neural network' with Activation function as 'Sigmoid'\n"
   ]
  },
  {
   "cell_type": "code",
   "execution_count": null,
   "metadata": {},
   "outputs": [
    {
     "name": "stdout",
     "output_type": "stream",
     "text": [
      "0 1 2 3 4 "
     ]
    },
    {
     "data": {
      "image/png": "[encoded data removed]",
      "text/plain": [
       "<Figure size 576x576 with 1 Axes>"
      ]
     },
     "metadata": {
      "needs_background": "light"
     },
     "output_type": "display_data"
    }
   ],
   "source": [
    "NN_sigmoid = NeuralNetwork(N=4, neuronInEachLayers=[n_features,256,128,64,32,n_classes], lr=1e-4, \n",
    "                    activation='sigmoid', weightInitType='normal', epochs=30, batchSize=128)\n",
    "\n",
    "NN_sigmoid.fit(x_train, y_train, x_test, y_test)"
   ]
  },
  {
   "cell_type": "code",
   "execution_count": null,
   "metadata": {},
   "outputs": [],
   "source": [
    "y_pred = NN_sigmoid.predict(x_test)\n",
    "y_pred_proba = NN_sigmoid.predict_proba(x_test)"
   ]
  },
  {
   "cell_type": "code",
   "execution_count": null,
   "metadata": {},
   "outputs": [
    {
     "name": "stdout",
     "output_type": "stream",
     "text": [
      "Accuracy on Training Dataset:  11.236666666666666\n",
      "Accuracy on Testing Dataset:  11.35\n"
     ]
    }
   ],
   "source": [
    "print(\"Accuracy on Training Dataset: \", NN_sigmoid.score(x_train, y_train)*100)\n",
    "print(\"Accuracy on Testing Dataset: \", NN_sigmoid.score(x_test, y_test)*100)"
   ]
  }
 ],
 "metadata": {
  "kernelspec": {
   "display_name": "Python 3.10.1 64-bit",
   "language": "python",
   "name": "python3"
  },
  "language_info": {
   "codemirror_mode": {
    "name": "ipython",
    "version": 3
   },
   "file_extension": ".py",
   "mimetype": "text/x-python",
   "name": "python",
   "nbconvert_exporter": "python",
   "pygments_lexer": "ipython3",
   "version": "3.10.1"
  },
  "orig_nbformat": 4,
  "vscode": {
   "interpreter": {
    "hash": "4f91e35da70fd7a53ceee9ab287ed040d81eb2ccfac088551011048c25bbd6e1"
   }
  }
 },
 "nbformat": 4,
 "nbformat_minor": 2
}
