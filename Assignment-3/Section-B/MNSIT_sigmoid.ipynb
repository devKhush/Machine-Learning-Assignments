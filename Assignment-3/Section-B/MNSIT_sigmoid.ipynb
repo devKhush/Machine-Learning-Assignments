{
 "cells": [
  {
   "cell_type": "code",
   "execution_count": 15,
   "metadata": {},
   "outputs": [],
   "source": [
    "import os\n",
    "import numpy as np\n",
    "import pandas as pd\n",
    "import struct\n",
    "import matplotlib.pyplot as plt\n",
    "import tensorflow as tf\n",
    "import warnings\n",
    "warnings.filterwarnings('ignore')"
   ]
  },
  {
   "cell_type": "code",
   "execution_count": 16,
   "metadata": {},
   "outputs": [],
   "source": [
    "def load_training_data():\n",
    "    f_image = open('Section-B/data/train-images.idx3-ubyte', 'rb')\n",
    "    f_label = open('Section-B/data/train-labels.idx1-ubyte', 'rb')\n",
    "    \n",
    "    magic_number, size, row, column = struct.unpack(\">IIII\", f_image.read(16))\n",
    "    image_data = np.fromfile(f_image, dtype=np.uint8)\n",
    "    print(\"Training Image Data:\")\n",
    "    print(magic_number, size, row, column)\n",
    "    print(image_data.shape, '\\n')\n",
    "    \n",
    "    magic_number, size = struct.unpack(\">II\", f_label.read(8))    \n",
    "    image_label = np.fromfile(f_label, dtype=np.uint8)\n",
    "    print(\"Training Image Label:\")\n",
    "    print(magic_number, size)\n",
    "    print(image_label.shape, '\\n')\n",
    "    \n",
    "    image_data = np.array(image_data).reshape((size, row, column))\n",
    "    return image_data, image_label\n",
    "\n",
    "\n",
    "def load_testing_data():\n",
    "    f_image = open('Section-B/data/t10k-images.idx3-ubyte', 'rb')\n",
    "    f_label = open('Section-B/data/t10k-labels.idx1-ubyte', 'rb')\n",
    "    \n",
    "    magic_number, size, row, column = struct.unpack(\">IIII\", f_image.read(16))\n",
    "    image_data = np.fromfile(f_image, dtype=np.uint8)\n",
    "    print(\"Testing Image Data:\")\n",
    "    print(magic_number, size, row, column)\n",
    "    print(image_data.shape, '\\n')\n",
    "    \n",
    "    magic_number, size = struct.unpack(\">II\", f_label.read(8))    \n",
    "    image_label = np.fromfile(f_label, dtype=np.uint8)\n",
    "    print(\"Testing Image Label:\")\n",
    "    print(magic_number, size)\n",
    "    print(image_label.shape, '\\n')\n",
    "    \n",
    "    image_data = np.array(image_data).reshape((size, row, column))\n",
    "    return image_data, image_label"
   ]
  },
  {
   "cell_type": "code",
   "execution_count": 17,
   "metadata": {},
   "outputs": [
    {
     "name": "stdout",
     "output_type": "stream",
     "text": [
      "Training Image Data:\n",
      "2051 60000 28 28\n",
      "(47040000,) \n",
      "\n",
      "Training Image Label:\n",
      "2049 60000\n",
      "(60000,) \n",
      "\n",
      "Testing Image Data:\n",
      "2051 10000 28 28\n",
      "(7840000,) \n",
      "\n",
      "Testing Image Label:\n",
      "2049 10000\n",
      "(10000,) \n",
      "\n"
     ]
    }
   ],
   "source": [
    "train_image_data, train_image_label = load_training_data()\n",
    "test_image_data, test_image_label = load_testing_data()"
   ]
  },
  {
   "cell_type": "code",
   "execution_count": 18,
   "metadata": {},
   "outputs": [],
   "source": [
    "from sklearn.model_selection import train_test_split\n",
    "from sklearn.metrics import log_loss\n",
    "from sklearn.neural_network import MLPClassifier\n",
    "\n",
    "train_image, valid_image, train_label, valid_label = train_test_split(\n",
    "                            train_image_data, train_image_label, test_size=0.15) "
   ]
  },
  {
   "cell_type": "code",
   "execution_count": 26,
   "metadata": {},
   "outputs": [
    {
     "data": {
      "text/html": [
       "<style>#sk-container-id-4 {color: black;background-color: white;}#sk-container-id-4 pre{padding: 0;}#sk-container-id-4 div.sk-toggleable {background-color: white;}#sk-container-id-4 label.sk-toggleable__label {cursor: pointer;display: block;width: 100%;margin-bottom: 0;padding: 0.3em;box-sizing: border-box;text-align: center;}#sk-container-id-4 label.sk-toggleable__label-arrow:before {content: \"▸\";float: left;margin-right: 0.25em;color: #696969;}#sk-container-id-4 label.sk-toggleable__label-arrow:hover:before {color: black;}#sk-container-id-4 div.sk-estimator:hover label.sk-toggleable__label-arrow:before {color: black;}#sk-container-id-4 div.sk-toggleable__content {max-height: 0;max-width: 0;overflow: hidden;text-align: left;background-color: #f0f8ff;}#sk-container-id-4 div.sk-toggleable__content pre {margin: 0.2em;color: black;border-radius: 0.25em;background-color: #f0f8ff;}#sk-container-id-4 input.sk-toggleable__control:checked~div.sk-toggleable__content {max-height: 200px;max-width: 100%;overflow: auto;}#sk-container-id-4 input.sk-toggleable__control:checked~label.sk-toggleable__label-arrow:before {content: \"▾\";}#sk-container-id-4 div.sk-estimator input.sk-toggleable__control:checked~label.sk-toggleable__label {background-color: #d4ebff;}#sk-container-id-4 div.sk-label input.sk-toggleable__control:checked~label.sk-toggleable__label {background-color: #d4ebff;}#sk-container-id-4 input.sk-hidden--visually {border: 0;clip: rect(1px 1px 1px 1px);clip: rect(1px, 1px, 1px, 1px);height: 1px;margin: -1px;overflow: hidden;padding: 0;position: absolute;width: 1px;}#sk-container-id-4 div.sk-estimator {font-family: monospace;background-color: #f0f8ff;border: 1px dotted black;border-radius: 0.25em;box-sizing: border-box;margin-bottom: 0.5em;}#sk-container-id-4 div.sk-estimator:hover {background-color: #d4ebff;}#sk-container-id-4 div.sk-parallel-item::after {content: \"\";width: 100%;border-bottom: 1px solid gray;flex-grow: 1;}#sk-container-id-4 div.sk-label:hover label.sk-toggleable__label {background-color: #d4ebff;}#sk-container-id-4 div.sk-serial::before {content: \"\";position: absolute;border-left: 1px solid gray;box-sizing: border-box;top: 0;bottom: 0;left: 50%;z-index: 0;}#sk-container-id-4 div.sk-serial {display: flex;flex-direction: column;align-items: center;background-color: white;padding-right: 0.2em;padding-left: 0.2em;position: relative;}#sk-container-id-4 div.sk-item {position: relative;z-index: 1;}#sk-container-id-4 div.sk-parallel {display: flex;align-items: stretch;justify-content: center;background-color: white;position: relative;}#sk-container-id-4 div.sk-item::before, #sk-container-id-4 div.sk-parallel-item::before {content: \"\";position: absolute;border-left: 1px solid gray;box-sizing: border-box;top: 0;bottom: 0;left: 50%;z-index: -1;}#sk-container-id-4 div.sk-parallel-item {display: flex;flex-direction: column;z-index: 1;position: relative;background-color: white;}#sk-container-id-4 div.sk-parallel-item:first-child::after {align-self: flex-end;width: 50%;}#sk-container-id-4 div.sk-parallel-item:last-child::after {align-self: flex-start;width: 50%;}#sk-container-id-4 div.sk-parallel-item:only-child::after {width: 0;}#sk-container-id-4 div.sk-dashed-wrapped {border: 1px dashed gray;margin: 0 0.4em 0.5em 0.4em;box-sizing: border-box;padding-bottom: 0.4em;background-color: white;}#sk-container-id-4 div.sk-label label {font-family: monospace;font-weight: bold;display: inline-block;line-height: 1.2em;}#sk-container-id-4 div.sk-label-container {text-align: center;}#sk-container-id-4 div.sk-container {/* jupyter's `normalize.less` sets `[hidden] { display: none; }` but bootstrap.min.css set `[hidden] { display: none !important; }` so we also need the `!important` here to be able to override the default hidden behavior on the sphinx rendered scikit-learn.org. See: https://github.com/scikit-learn/scikit-learn/issues/21755 */display: inline-block !important;position: relative;}#sk-container-id-4 div.sk-text-repr-fallback {display: none;}</style><div id=\"sk-container-id-4\" class=\"sk-top-container\"><div class=\"sk-text-repr-fallback\"><pre>MLPClassifier(activation=&#x27;logistic&#x27;, batch_size=128,\n",
       "              hidden_layer_sizes=(256, 32), max_iter=20)</pre><b>In a Jupyter environment, please rerun this cell to show the HTML representation or trust the notebook. <br />On GitHub, the HTML representation is unable to render, please try loading this page with nbviewer.org.</b></div><div class=\"sk-container\" hidden><div class=\"sk-item\"><div class=\"sk-estimator sk-toggleable\"><input class=\"sk-toggleable__control sk-hidden--visually\" id=\"sk-estimator-id-4\" type=\"checkbox\" checked><label for=\"sk-estimator-id-4\" class=\"sk-toggleable__label sk-toggleable__label-arrow\">MLPClassifier</label><div class=\"sk-toggleable__content\"><pre>MLPClassifier(activation=&#x27;logistic&#x27;, batch_size=128,\n",
       "              hidden_layer_sizes=(256, 32), max_iter=20)</pre></div></div></div></div></div>"
      ],
      "text/plain": [
       "MLPClassifier(activation='logistic', batch_size=128,\n",
       "              hidden_layer_sizes=(256, 32), max_iter=20)"
      ]
     },
     "execution_count": 26,
     "metadata": {},
     "output_type": "execute_result"
    }
   ],
   "source": [
    "mlp = MLPClassifier(hidden_layer_sizes=(256,32), activation='logistic', batch_size=128, max_iter=20)\n",
    "\n",
    "\n",
    "nsamples, nrows, ncols = train_image.shape\n",
    "mlp.fit(train_image.reshape((nsamples, nrows*ncols)), train_label)"
   ]
  },
  {
   "cell_type": "code",
   "execution_count": 27,
   "metadata": {},
   "outputs": [
    {
     "name": "stdout",
     "output_type": "stream",
     "text": [
      "0.9524509803921568\n"
     ]
    }
   ],
   "source": [
    "print(mlp.score(train_image.reshape((nsamples, nrows*ncols)), train_label))"
   ]
  },
  {
   "cell_type": "code",
   "execution_count": 28,
   "metadata": {},
   "outputs": [
    {
     "name": "stdout",
     "output_type": "stream",
     "text": [
      "0.9415555555555556\n"
     ]
    }
   ],
   "source": [
    "nsamples, nrows, ncols = valid_image.shape\n",
    "print(mlp.score(valid_image.reshape((nsamples, nrows*ncols)), valid_label))"
   ]
  }
 ],
 "metadata": {
  "kernelspec": {
   "display_name": "Python 3.10.1 64-bit",
   "language": "python",
   "name": "python3"
  },
  "language_info": {
   "codemirror_mode": {
    "name": "ipython",
    "version": 3
   },
   "file_extension": ".py",
   "mimetype": "text/x-python",
   "name": "python",
   "nbconvert_exporter": "python",
   "pygments_lexer": "ipython3",
   "version": "3.10.1"
  },
  "orig_nbformat": 4,
  "vscode": {
   "interpreter": {
    "hash": "4f91e35da70fd7a53ceee9ab287ed040d81eb2ccfac088551011048c25bbd6e1"
   }
  }
 },
 "nbformat": 4,
 "nbformat_minor": 2
}
